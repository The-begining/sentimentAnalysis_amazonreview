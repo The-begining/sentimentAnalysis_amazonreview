{
  "cells": [
    {
      "cell_type": "markdown",
      "metadata": {
        "id": "view-in-github",
        "colab_type": "text"
      },
      "source": [
        "<a href=\"https://colab.research.google.com/github/The-begining/sentimentAnalysis_amazonreview/blob/main/Cleaned_dataset.ipynb\" target=\"_parent\"><img src=\"https://colab.research.google.com/assets/colab-badge.svg\" alt=\"Open In Colab\"/></a>"
      ]
    },
    {
      "cell_type": "code",
      "execution_count": null,
      "id": "a80c5254",
      "metadata": {
        "id": "a80c5254"
      },
      "outputs": [],
      "source": [
        "import gc\n",
        "import re\n",
        "import time\n",
        "import math\n",
        "import random\n",
        "import warnings\n",
        "warnings.filterwarnings(\"ignore\")\n",
        "\n",
        "import numpy as np\n",
        "import pandas as pd"
      ]
    },
    {
      "cell_type": "code",
      "execution_count": null,
      "id": "b24ec2ef",
      "metadata": {
        "id": "b24ec2ef"
      },
      "outputs": [],
      "source": [
        "train_df = pd.read_csv('train.csv')\n",
        "test_df = pd.read_csv('test.csv')\n",
        "train_df.columns = ['Sentiments', 'Text', 'Additional_text']\n",
        "test_df.columns = ['Sentiments', 'Text', 'Additional_text']"
      ]
    },
    {
      "cell_type": "code",
      "execution_count": null,
      "id": "62e5b88b",
      "metadata": {
        "id": "62e5b88b"
      },
      "outputs": [],
      "source": [
        "train_df['Sentiments'] = train_df['Sentiments'].map({1: 0, 2: 0, 3: None, 4: 1, 5: 1})\n",
        "test_df['Sentiments'] = test_df['Sentiments'].map({1: 0, 2: 0, 3: None, 4: 1, 5: 1})"
      ]
    },
    {
      "cell_type": "code",
      "execution_count": null,
      "id": "1ac5156c",
      "metadata": {
        "id": "1ac5156c"
      },
      "outputs": [],
      "source": [
        "# Drop rows with None (3-star rating)\n",
        "train_df = train_df.dropna(subset=['Sentiments'])\n",
        "# Drop rows with None (3-star rating)\n",
        "test_df = test_df.dropna(subset=['Sentiments'])"
      ]
    },
    {
      "cell_type": "code",
      "execution_count": null,
      "id": "5c66f9dc",
      "metadata": {
        "id": "5c66f9dc",
        "outputId": "efe0e712-95f9-44e0-c416-0fb013e2ec5b"
      },
      "outputs": [
        {
          "data": {
            "text/plain": [
              "((2400000, 3), (519999, 3))"
            ]
          },
          "execution_count": 10,
          "metadata": {},
          "output_type": "execute_result"
        }
      ],
      "source": [
        "train_df.shape, test_df.shape"
      ]
    },
    {
      "cell_type": "code",
      "execution_count": null,
      "id": "ca03bc3a",
      "metadata": {
        "id": "ca03bc3a"
      },
      "outputs": [],
      "source": [
        "def clean_text(text):\n",
        "    #remove non-alphanumeric characters and extra whitespace\n",
        "    text = re.sub(r'[^a-zA-Z\\s]', '', text)\n",
        "\n",
        "    #convert multiple whitespace characters to a single space\n",
        "    text = re.sub(r'\\s+', ' ', text)\n",
        "\n",
        "    #capture swear words that are ***** out\n",
        "    text=re.sub(r'\\*+','swear',text)\n",
        "\n",
        "    #caputre the html tags and removes it\n",
        "    text=re.sub(r'https?://www\\.\\S+\\.com','',text)\n",
        "\n",
        "    #convert the text to lowercase\n",
        "    text = text.lower()\n",
        "\n",
        "    return text\n",
        "\n",
        "def remove_html(text):\n",
        "    html=re.compile(r'<.*?>')\n",
        "    return html.sub(r'',text)\n",
        "\n",
        "# Reference : https://gist.github.com/slowkow/7a7f61f495e3dbb7e3d767f97bd7304b\n",
        "def remove_emoji(text):\n",
        "    emoji_pattern = re.compile(\"[\"\n",
        "                           u\"\\U0001F600-\\U0001F64F\"  # emoticons\n",
        "                           u\"\\U0001F300-\\U0001F5FF\"  # symbols & pictographs\n",
        "                           u\"\\U0001F680-\\U0001F6FF\"  # transport & map symbols\n",
        "                           u\"\\U0001F1E0-\\U0001F1FF\"  # flags (iOS)\n",
        "                           u\"\\U00002702-\\U000027B0\"\n",
        "                           u\"\\U000024C2-\\U0001F251\"\n",
        "                           \"]+\", flags=re.UNICODE)\n",
        "    return emoji_pattern.sub(r'', text)\n",
        "\n",
        "def remove_multiplechars(text):\n",
        "    text = re.sub(r'(.)\\1{3,}',r'\\1', text)\n",
        "    return text\n",
        "\n",
        "def clean(df):\n",
        "    for col in ['text']:#,'selected_text']:\n",
        "        df[col]=df[col].astype(str).apply(lambda x:clean_text(x))\n",
        "        df[col]=df[col].astype(str).apply(lambda x:remove_emoji(x))\n",
        "        df[col]=df[col].astype(str).apply(lambda x:remove_html(x))\n",
        "        df[col]=df[col].astype(str).apply(lambda x:remove_multiplechars(x))\n",
        "\n",
        "    return df"
      ]
    },
    {
      "cell_type": "code",
      "execution_count": null,
      "id": "79da948b",
      "metadata": {
        "id": "79da948b"
      },
      "outputs": [],
      "source": [
        "train_df['text'] = train_df['Text'].str.cat(train_df['Additional_text'], sep = ';')\n",
        "test_df['text'] = test_df['Text'].str.cat(test_df['Additional_text'], sep = ';')"
      ]
    },
    {
      "cell_type": "code",
      "execution_count": null,
      "id": "eeb1eca3",
      "metadata": {
        "id": "eeb1eca3",
        "outputId": "8b43f367-4094-44d5-e93e-860cfb9cf5f3"
      },
      "outputs": [
        {
          "data": {
            "text/plain": [
              "(0    Inspiring;I hope a lot of people hear this cd....\n",
              " 1    The best soundtrack ever to anything.;I'm read...\n",
              " 2    Chrono Cross OST;The music of Yasunori Misuda ...\n",
              " 3    Too good to be true;Probably the greatest soun...\n",
              " 4    There's a reason for the price;There's a reaso...\n",
              " Name: text, dtype: object,\n",
              " 0    Surprisingly delightful;This is a fast read fi...\n",
              " 1    Works, but not as advertised;I bought one of t...\n",
              " 2    Oh dear;I was excited to find a book ostensibl...\n",
              " 3    Incorrect disc!;I am a big JVC fan, but I do n...\n",
              " 4    Incorrect Disc;I love the style of this, but a...\n",
              " Name: text, dtype: object)"
            ]
          },
          "execution_count": 22,
          "metadata": {},
          "output_type": "execute_result"
        }
      ],
      "source": [
        "train_df['text'].head(), test_df['text'].head()"
      ]
    },
    {
      "cell_type": "code",
      "execution_count": null,
      "id": "ee367b77",
      "metadata": {
        "id": "ee367b77",
        "outputId": "ef6df3c4-212b-4adc-f352-f99891ca53e0"
      },
      "outputs": [
        {
          "data": {
            "text/html": [
              "<div>\n",
              "<style scoped>\n",
              "    .dataframe tbody tr th:only-of-type {\n",
              "        vertical-align: middle;\n",
              "    }\n",
              "\n",
              "    .dataframe tbody tr th {\n",
              "        vertical-align: top;\n",
              "    }\n",
              "\n",
              "    .dataframe thead th {\n",
              "        text-align: right;\n",
              "    }\n",
              "</style>\n",
              "<table border=\"1\" class=\"dataframe\">\n",
              "  <thead>\n",
              "    <tr style=\"text-align: right;\">\n",
              "      <th></th>\n",
              "      <th>Sentiments</th>\n",
              "      <th>Text</th>\n",
              "      <th>Additional_text</th>\n",
              "      <th>text</th>\n",
              "    </tr>\n",
              "  </thead>\n",
              "  <tbody>\n",
              "    <tr>\n",
              "      <th>0</th>\n",
              "      <td>1.0</td>\n",
              "      <td>Inspiring</td>\n",
              "      <td>I hope a lot of people hear this cd. We need m...</td>\n",
              "      <td>Inspiring;I hope a lot of people hear this cd....</td>\n",
              "    </tr>\n",
              "    <tr>\n",
              "      <th>1</th>\n",
              "      <td>1.0</td>\n",
              "      <td>The best soundtrack ever to anything.</td>\n",
              "      <td>I'm reading a lot of reviews saying that this ...</td>\n",
              "      <td>The best soundtrack ever to anything.;I'm read...</td>\n",
              "    </tr>\n",
              "    <tr>\n",
              "      <th>2</th>\n",
              "      <td>1.0</td>\n",
              "      <td>Chrono Cross OST</td>\n",
              "      <td>The music of Yasunori Misuda is without questi...</td>\n",
              "      <td>Chrono Cross OST;The music of Yasunori Misuda ...</td>\n",
              "    </tr>\n",
              "    <tr>\n",
              "      <th>3</th>\n",
              "      <td>1.0</td>\n",
              "      <td>Too good to be true</td>\n",
              "      <td>Probably the greatest soundtrack in history! U...</td>\n",
              "      <td>Too good to be true;Probably the greatest soun...</td>\n",
              "    </tr>\n",
              "    <tr>\n",
              "      <th>4</th>\n",
              "      <td>1.0</td>\n",
              "      <td>There's a reason for the price</td>\n",
              "      <td>There's a reason this CD is so expensive, even...</td>\n",
              "      <td>There's a reason for the price;There's a reaso...</td>\n",
              "    </tr>\n",
              "  </tbody>\n",
              "</table>\n",
              "</div>"
            ],
            "text/plain": [
              "   Sentiments                                   Text  \\\n",
              "0         1.0                              Inspiring   \n",
              "1         1.0  The best soundtrack ever to anything.   \n",
              "2         1.0                       Chrono Cross OST   \n",
              "3         1.0                    Too good to be true   \n",
              "4         1.0         There's a reason for the price   \n",
              "\n",
              "                                     Additional_text  \\\n",
              "0  I hope a lot of people hear this cd. We need m...   \n",
              "1  I'm reading a lot of reviews saying that this ...   \n",
              "2  The music of Yasunori Misuda is without questi...   \n",
              "3  Probably the greatest soundtrack in history! U...   \n",
              "4  There's a reason this CD is so expensive, even...   \n",
              "\n",
              "                                                text  \n",
              "0  Inspiring;I hope a lot of people hear this cd....  \n",
              "1  The best soundtrack ever to anything.;I'm read...  \n",
              "2  Chrono Cross OST;The music of Yasunori Misuda ...  \n",
              "3  Too good to be true;Probably the greatest soun...  \n",
              "4  There's a reason for the price;There's a reaso...  "
            ]
          },
          "execution_count": 25,
          "metadata": {},
          "output_type": "execute_result"
        }
      ],
      "source": [
        "train_df.head()"
      ]
    },
    {
      "cell_type": "code",
      "execution_count": null,
      "id": "a62e78b9",
      "metadata": {
        "id": "a62e78b9"
      },
      "outputs": [],
      "source": [
        "columns_to_keep = ['Sentiments', 'text']\n",
        "train_dataset = train_df[columns_to_keep]"
      ]
    },
    {
      "cell_type": "code",
      "execution_count": null,
      "id": "95276a84",
      "metadata": {
        "id": "95276a84"
      },
      "outputs": [],
      "source": [
        "train_df['text'] = train_df['text'].astype(str).apply(clean_text)\n"
      ]
    },
    {
      "cell_type": "code",
      "execution_count": null,
      "id": "6a39e433",
      "metadata": {
        "id": "6a39e433"
      },
      "outputs": [],
      "source": [
        "test_df['text'] = test_df['text'].astype(str).apply(clean_text)"
      ]
    },
    {
      "cell_type": "code",
      "execution_count": null,
      "id": "6e2611d8",
      "metadata": {
        "id": "6e2611d8",
        "outputId": "e9c215b0-2f62-47d7-ad64-ae3605782952"
      },
      "outputs": [
        {
          "data": {
            "text/plain": [
              "(2400000, 4)"
            ]
          },
          "execution_count": 37,
          "metadata": {},
          "output_type": "execute_result"
        }
      ],
      "source": [
        "train_df.shape"
      ]
    },
    {
      "cell_type": "code",
      "execution_count": null,
      "id": "be7fee48",
      "metadata": {
        "id": "be7fee48"
      },
      "outputs": [],
      "source": [
        "columns_to_keep = ['Sentiments', 'text']\n",
        "train_dataset = train_df[columns_to_keep]"
      ]
    },
    {
      "cell_type": "code",
      "execution_count": null,
      "id": "68d75e4c",
      "metadata": {
        "id": "68d75e4c",
        "outputId": "c6e73ff2-f740-4ea7-e3b4-02fea941250a"
      },
      "outputs": [
        {
          "data": {
            "text/plain": [
              "(2400000, 2)"
            ]
          },
          "execution_count": 39,
          "metadata": {},
          "output_type": "execute_result"
        }
      ],
      "source": [
        "train_dataset.shape"
      ]
    },
    {
      "cell_type": "code",
      "execution_count": null,
      "id": "e983d913",
      "metadata": {
        "id": "e983d913"
      },
      "outputs": [],
      "source": [
        "test_dataset = test_df[columns_to_keep]"
      ]
    },
    {
      "cell_type": "code",
      "execution_count": null,
      "id": "9fb1d327",
      "metadata": {
        "id": "9fb1d327",
        "outputId": "61293e12-5e55-4157-e057-e755ac5120a4"
      },
      "outputs": [
        {
          "data": {
            "text/plain": [
              "(519999, 2)"
            ]
          },
          "execution_count": 41,
          "metadata": {},
          "output_type": "execute_result"
        }
      ],
      "source": [
        "test_dataset.shape"
      ]
    },
    {
      "cell_type": "code",
      "execution_count": null,
      "id": "d2eb9fed",
      "metadata": {
        "id": "d2eb9fed"
      },
      "outputs": [],
      "source": [
        "train_dataset.to_csv('training_set_cleaned.csv', encoding='utf-8')\n",
        "test_dataset.to_csv('test_dataset_cleaned.csv', encoding = 'utf-8')"
      ]
    },
    {
      "cell_type": "code",
      "execution_count": null,
      "id": "1c50df31",
      "metadata": {
        "id": "1c50df31"
      },
      "outputs": [],
      "source": [
        "df.to_csv('output.csv', sep=',', encoding='utf-8', index=False, header=True, na_rep='N/A')\n"
      ]
    }
  ],
  "metadata": {
    "kernelspec": {
      "display_name": "Python 3 (ipykernel)",
      "language": "python",
      "name": "python3"
    },
    "language_info": {
      "codemirror_mode": {
        "name": "ipython",
        "version": 3
      },
      "file_extension": ".py",
      "mimetype": "text/x-python",
      "name": "python",
      "nbconvert_exporter": "python",
      "pygments_lexer": "ipython3",
      "version": "3.11.4"
    },
    "colab": {
      "provenance": [],
      "include_colab_link": true
    }
  },
  "nbformat": 4,
  "nbformat_minor": 5
}