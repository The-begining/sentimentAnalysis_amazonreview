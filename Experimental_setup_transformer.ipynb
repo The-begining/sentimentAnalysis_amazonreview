{
  "cells": [
    {
      "cell_type": "markdown",
      "metadata": {
        "id": "view-in-github",
        "colab_type": "text"
      },
      "source": [
        "<a href=\"https://colab.research.google.com/github/The-begining/sentimentAnalysis_amazonreview/blob/main/Experimental_setup_transformer.ipynb\" target=\"_parent\"><img src=\"https://colab.research.google.com/assets/colab-badge.svg\" alt=\"Open In Colab\"/></a>"
      ]
    },
    {
      "cell_type": "code",
      "execution_count": null,
      "metadata": {
        "id": "243u2hoRqZhL"
      },
      "outputs": [],
      "source": []
    },
    {
      "cell_type": "code",
      "execution_count": 1,
      "metadata": {
        "colab": {
          "base_uri": "https://localhost:8080/"
        },
        "id": "5Wxo0J3Pqb6y",
        "outputId": "af0c5a3b-55ee-4c0b-c25b-f72a3d923f14"
      },
      "outputs": [
        {
          "output_type": "stream",
          "name": "stdout",
          "text": [
            "Mounted at /content/drive\n"
          ]
        }
      ],
      "source": [
        "from google.colab import drive\n",
        "drive.mount('/content/drive')"
      ]
    },
    {
      "cell_type": "code",
      "execution_count": 2,
      "metadata": {
        "id": "EKlSQebnqchg"
      },
      "outputs": [],
      "source": [
        "import pandas as pd"
      ]
    },
    {
      "cell_type": "code",
      "execution_count": 3,
      "metadata": {
        "id": "XIDq_KWOqoU_"
      },
      "outputs": [],
      "source": [
        "train_df = pd.read_csv('/content/drive/MyDrive/training_set_cleaned.csv')\n",
        "test_df = pd.read_csv('/content/drive/MyDrive/test_dataset_cleaned.csv')"
      ]
    },
    {
      "cell_type": "code",
      "execution_count": 4,
      "metadata": {
        "id": "-oYtrlwlq3Ij"
      },
      "outputs": [],
      "source": [
        "train_df['Sentiments'] = train_df['Sentiments'].astype(int)\n",
        "test_df['Sentiments'] = test_df['Sentiments'].astype(int)\n",
        "\n",
        "\n",
        "train_df['text'] = train_df['text'].astype(str).fillna('')\n",
        "test_df['text'] = test_df['text'].astype(str).fillna('')"
      ]
    },
    {
      "cell_type": "code",
      "source": [
        "train_df['text'][1]"
      ],
      "metadata": {
        "colab": {
          "base_uri": "https://localhost:8080/",
          "height": 105
        },
        "id": "krqVntoRSMUw",
        "outputId": "08139f97-8558-456a-cd7b-df5429539d8d"
      },
      "execution_count": 5,
      "outputs": [
        {
          "output_type": "execute_result",
          "data": {
            "text/plain": [
              "'the best soundtrack ever to anythingim reading a lot of reviews saying that this is the best game soundtrack and i figured that id write a review to disagree a bit this in my opinino is yasunori mitsudas ultimate masterpiece the music is timeless and im been listening to it for years now and its beauty simply refuses to fadethe price tag on this is pretty staggering i must say but if you are going to buy any cd for this much money this is the only one that i feel would be worth every penny'"
            ],
            "application/vnd.google.colaboratory.intrinsic+json": {
              "type": "string"
            }
          },
          "metadata": {},
          "execution_count": 5
        }
      ]
    },
    {
      "cell_type": "code",
      "source": [
        "import pandas as pd\n",
        "import nltk\n",
        "from nltk.stem import WordNetLemmatizer\n",
        "nltk.download('wordnet')\n",
        "nltk.download('omw-1.4')\n",
        "nltk.download('punkt')"
      ],
      "metadata": {
        "colab": {
          "base_uri": "https://localhost:8080/"
        },
        "id": "KklqeQZ4Rtfr",
        "outputId": "a11f0ea0-05ff-4154-870d-03486150020c"
      },
      "execution_count": 6,
      "outputs": [
        {
          "output_type": "stream",
          "name": "stderr",
          "text": [
            "[nltk_data] Downloading package wordnet to /root/nltk_data...\n",
            "[nltk_data] Downloading package omw-1.4 to /root/nltk_data...\n",
            "[nltk_data] Downloading package punkt to /root/nltk_data...\n",
            "[nltk_data]   Unzipping tokenizers/punkt.zip.\n"
          ]
        },
        {
          "output_type": "execute_result",
          "data": {
            "text/plain": [
              "True"
            ]
          },
          "metadata": {},
          "execution_count": 6
        }
      ]
    },
    {
      "cell_type": "code",
      "source": [
        "# Initialize the WordNetLemmatizer\n",
        "lemmatizer = WordNetLemmatizer()"
      ],
      "metadata": {
        "id": "XUKAH2agSB0N"
      },
      "execution_count": 7,
      "outputs": []
    },
    {
      "cell_type": "code",
      "source": [
        "# Define a function to lemmatize text\n",
        "def lemmatize_text(text):\n",
        "    # Tokenize the text\n",
        "    tokens = nltk.word_tokenize(text)\n",
        "    # Lemmatize each token and join them back into a single string\n",
        "    lemmatized_text = ' '.join([lemmatizer.lemmatize(token) for token in tokens])\n",
        "    return lemmatized_text"
      ],
      "metadata": {
        "id": "m6O8nvWGSBw3"
      },
      "execution_count": 8,
      "outputs": []
    },
    {
      "cell_type": "code",
      "source": [
        "#train_df = train_df.sample(n = 50000, random_state=42)\n",
        "#test_df = test_df.sample(n=10000, random_state=42)\n"
      ],
      "metadata": {
        "id": "hOyQhLPqSBsI"
      },
      "execution_count": null,
      "outputs": []
    },
    {
      "cell_type": "code",
      "source": [
        "from nltk.corpus import stopwords\n",
        "from nltk.tokenize import word_tokenize\n",
        "# Download necessary NLTK data\n",
        "nltk.download('stopwords')\n",
        "# Initialize the set of stop words\n",
        "stop_words = set(stopwords.words('english'))\n",
        "\n",
        "# Define a function to remove stop words\n",
        "def remove_stop_words(text):\n",
        "    words = word_tokenize(text) # Tokenize the text\n",
        "    filtered_words = [word for word in words if word.lower() not in stop_words] # Filter out stop words\n",
        "    filtered_text = ' '.join(filtered_words)  # Join the filtered words back into a single string\n",
        "    return filtered_text\n",
        "\n",
        "# Apply the function to the 'text' column of the train and test Dataset\n",
        "train_df['text'] = train_df['text'].apply(remove_stop_words)\n",
        "test_df['text'] = test_df['text'].apply(remove_stop_words)"
      ],
      "metadata": {
        "colab": {
          "base_uri": "https://localhost:8080/"
        },
        "id": "aUNhtIDGZTC3",
        "outputId": "298a2fa9-ca5c-4439-e344-4f38a7158b59"
      },
      "execution_count": 9,
      "outputs": [
        {
          "output_type": "stream",
          "name": "stderr",
          "text": [
            "[nltk_data] Downloading package stopwords to /root/nltk_data...\n",
            "[nltk_data]   Unzipping corpora/stopwords.zip.\n"
          ]
        }
      ]
    },
    {
      "cell_type": "code",
      "source": [
        "train_df['text'][1]"
      ],
      "metadata": {
        "colab": {
          "base_uri": "https://localhost:8080/",
          "height": 70
        },
        "id": "nHnQpoRPZ9ND",
        "outputId": "6fb99b33-84bb-41ce-85ee-d5b48ac6554d"
      },
      "execution_count": 10,
      "outputs": [
        {
          "output_type": "execute_result",
          "data": {
            "text/plain": [
              "'best soundtrack ever anythingim reading lot reviews saying best game soundtrack figured id write review disagree bit opinino yasunori mitsudas ultimate masterpiece music timeless im listening years beauty simply refuses fadethe price tag pretty staggering must say going buy cd much money one feel would worth every penny'"
            ],
            "application/vnd.google.colaboratory.intrinsic+json": {
              "type": "string"
            }
          },
          "metadata": {},
          "execution_count": 10
        }
      ]
    },
    {
      "cell_type": "code",
      "source": [
        "train_df.shape"
      ],
      "metadata": {
        "colab": {
          "base_uri": "https://localhost:8080/"
        },
        "id": "1eWSmp0au7Wo",
        "outputId": "4c2d6279-31c4-47a8-c9d9-3adc3b18e95f"
      },
      "execution_count": 11,
      "outputs": [
        {
          "output_type": "execute_result",
          "data": {
            "text/plain": [
              "(2400000, 3)"
            ]
          },
          "metadata": {},
          "execution_count": 11
        }
      ]
    },
    {
      "cell_type": "code",
      "source": [
        "# Lemmatization\n",
        "train_df['text'] = train_df['text'].apply(lemmatize_text)\n",
        "test_df['text'] = test_df['text'].apply(lemmatize_text)"
      ],
      "metadata": {
        "id": "TaYqZi6TbqBH"
      },
      "execution_count": 12,
      "outputs": []
    },
    {
      "cell_type": "code",
      "source": [],
      "metadata": {
        "id": "tL3PEEqGbpwT"
      },
      "execution_count": null,
      "outputs": []
    },
    {
      "cell_type": "code",
      "execution_count": 13,
      "metadata": {
        "id": "3VWGEmErrBft"
      },
      "outputs": [],
      "source": [
        "import tensorflow as tf\n",
        "from tensorflow.keras.layers import Input, Embedding, GlobalAveragePooling1D, Dense, Dropout\n",
        "from tensorflow.keras.models import Model\n",
        "from sklearn.metrics import classification_report, confusion_matrix, accuracy_score\n",
        "import numpy as np\n",
        "import matplotlib.pyplot as plt\n",
        "import seaborn as sns"
      ]
    },
    {
      "cell_type": "code",
      "execution_count": 14,
      "metadata": {
        "id": "gh64ZJ_ZrHTp"
      },
      "outputs": [],
      "source": [
        "# Data Preparation\n",
        "train_texts = train_df['text'].values\n",
        "train_labels = train_df['Sentiments'].values\n",
        "test_texts = test_df['text'].values\n",
        "test_labels = test_df['Sentiments'].values"
      ]
    },
    {
      "cell_type": "code",
      "execution_count": 15,
      "metadata": {
        "id": "S6ynqRqHrLir"
      },
      "outputs": [],
      "source": [
        "# Tokenization\n",
        "tokenizer = tf.keras.preprocessing.text.Tokenizer()\n",
        "tokenizer.fit_on_texts(train_texts)\n",
        "\n",
        "train_sequences = tokenizer.texts_to_sequences(train_texts)\n",
        "test_sequences = tokenizer.texts_to_sequences(test_texts)\n",
        "\n",
        "max_sequence_length = max(max(len(seq) for seq in train_sequences), max(len(seq) for seq in test_sequences))\n",
        "train_sequences = tf.keras.preprocessing.sequence.pad_sequences(train_sequences, maxlen=max_sequence_length)\n",
        "test_sequences = tf.keras.preprocessing.sequence.pad_sequences(test_sequences, maxlen=max_sequence_length)"
      ]
    },
    {
      "cell_type": "code",
      "execution_count": 16,
      "metadata": {
        "id": "-YRF2LukrU_J"
      },
      "outputs": [],
      "source": [
        "from tensorflow.keras.layers import LayerNormalization, MultiHeadAttention, Dropout, Dense\n",
        "\n",
        "def TransformerLayer(units, num_heads, dropout, activation='relu'):\n",
        "    inputs = Input(shape=(None, units))\n",
        "    attention = MultiHeadAttention(num_heads=num_heads, key_dim=units // num_heads)(inputs, inputs)\n",
        "    attention = Dropout(dropout)(attention)\n",
        "    attention = LayerNormalization(epsilon=1e-6)(inputs + attention)\n",
        "    outputs = Dense(units, activation=activation)(attention)\n",
        "    outputs = Dropout(dropout)(outputs)\n",
        "    outputs = LayerNormalization(epsilon=1e-6)(attention + outputs)\n",
        "    return Model(inputs=inputs, outputs=outputs)\n",
        "\n",
        "transformer_layer = TransformerLayer(units=128, num_heads=2, dropout=0.1)\n"
      ]
    },
    {
      "cell_type": "code",
      "execution_count": 17,
      "metadata": {
        "id": "PDtJv8_5y0Si"
      },
      "outputs": [],
      "source": [
        "import tensorflow as tf\n",
        "from tensorflow.keras.layers import Input, Embedding, GlobalAveragePooling1D, Dense, Dropout, LayerNormalization, MultiHeadAttention\n",
        "from tensorflow.keras.models import Model\n",
        "from tensorflow.keras.callbacks import EarlyStopping\n"
      ]
    },
    {
      "cell_type": "code",
      "execution_count": null,
      "metadata": {
        "id": "B5HMexGctAui"
      },
      "outputs": [],
      "source": []
    },
    {
      "cell_type": "code",
      "execution_count": 18,
      "metadata": {
        "id": "U20XlUk1tM36"
      },
      "outputs": [],
      "source": [
        "max_sequence_length = max(max(len(seq) for seq in train_sequences), max(len(seq) for seq in test_sequences))\n",
        "train_sequences = tf.keras.preprocessing.sequence.pad_sequences(train_sequences, maxlen=max_sequence_length)\n",
        "test_sequences = tf.keras.preprocessing.sequence.pad_sequences(test_sequences, maxlen=max_sequence_length)"
      ]
    },
    {
      "cell_type": "code",
      "execution_count": 19,
      "metadata": {
        "id": "ZDLoyaRHy0Sj"
      },
      "outputs": [],
      "source": [
        "\n",
        "# Model Architecture\n",
        "inputs = Input(shape=(max_sequence_length,))\n",
        "embedding_layer = Embedding(input_dim=len(tokenizer.word_index) + 1, output_dim=128)(inputs)\n",
        "transformer_output = TransformerLayer(units=128, num_heads=2, dropout=0.1)(embedding_layer)\n",
        "pooling_layer = GlobalAveragePooling1D()(transformer_output)\n",
        "dropout_layer = Dropout(0.2)(pooling_layer)\n",
        "outputs = Dense(1, activation='sigmoid')(dropout_layer)"
      ]
    },
    {
      "cell_type": "code",
      "execution_count": 20,
      "metadata": {
        "id": "yn5_77NAy0Sj"
      },
      "outputs": [],
      "source": [
        "# Create the model\n",
        "model = Model(inputs=inputs, outputs=outputs)"
      ]
    },
    {
      "cell_type": "code",
      "execution_count": 21,
      "metadata": {
        "id": "tW7ckX5iy0Sj"
      },
      "outputs": [],
      "source": [
        "# Compile the model\n",
        "model.compile(optimizer='adam', loss='binary_crossentropy', metrics=['accuracy'])"
      ]
    },
    {
      "cell_type": "code",
      "execution_count": 22,
      "metadata": {
        "id": "sYeqccjIy0Sj"
      },
      "outputs": [],
      "source": [
        "# Early stopping\n",
        "early_stopping = EarlyStopping(monitor='val_loss', patience=3, restore_best_weights=True)"
      ]
    },
    {
      "cell_type": "code",
      "source": [],
      "metadata": {
        "id": "ZisMEC8fpDB9"
      },
      "execution_count": 22,
      "outputs": []
    },
    {
      "cell_type": "code",
      "execution_count": 23,
      "metadata": {
        "id": "a6H_20tny0Sj",
        "outputId": "466b0283-00db-437e-c5ab-53f092d4eccf",
        "colab": {
          "base_uri": "https://localhost:8080/"
        }
      },
      "outputs": [
        {
          "output_type": "stream",
          "name": "stdout",
          "text": [
            "1172/1172 [==============================] - 467s 392ms/step - loss: 0.3114 - accuracy: 0.8643 - val_loss: 0.2752 - val_accuracy: 0.8842\n"
          ]
        }
      ],
      "source": [
        "# Training\n",
        "history = model.fit(train_sequences, train_labels, validation_data=(test_sequences, test_labels), epochs=1, batch_size=2048, callbacks=[early_stopping])"
      ]
    },
    {
      "cell_type": "code",
      "execution_count": 24,
      "metadata": {
        "id": "bedBH0Cvy0Sj",
        "colab": {
          "base_uri": "https://localhost:8080/"
        },
        "outputId": "acc61395-97a5-4b28-f180-9cfd89bcd17e"
      },
      "outputs": [
        {
          "output_type": "stream",
          "name": "stdout",
          "text": [
            "16250/16250 [==============================] - 75s 5ms/step - loss: 0.2752 - accuracy: 0.8842\n",
            "Test Loss: 0.2752498984336853, Test Accuracy: 0.8841844201087952\n"
          ]
        }
      ],
      "source": [
        "# Evaluate the model\n",
        "loss, accuracy = model.evaluate(test_sequences, test_labels)\n",
        "print(f'Test Loss: {loss}, Test Accuracy: {accuracy}')"
      ]
    },
    {
      "cell_type": "code",
      "source": [
        "# Predict the test set\n",
        "y_pred_probs = model.predict(test_sequences)\n",
        "y_pred = (y_pred_probs > 0.5).astype(int)\n",
        "\n",
        "# Classification report\n",
        "print(\"Classification Report:\")\n",
        "print(classification_report(test_labels, y_pred))\n"
      ],
      "metadata": {
        "id": "R7BbTlwSmMPX",
        "colab": {
          "base_uri": "https://localhost:8080/"
        },
        "outputId": "48eddd4e-b9f6-430c-9850-3cb4aa2b02e9"
      },
      "execution_count": 26,
      "outputs": [
        {
          "output_type": "stream",
          "name": "stdout",
          "text": [
            "16250/16250 [==============================] - 59s 4ms/step\n",
            "Classification Report:\n",
            "              precision    recall  f1-score   support\n",
            "\n",
            "           0       0.89      0.87      0.88    259999\n",
            "           1       0.88      0.89      0.89    260000\n",
            "\n",
            "    accuracy                           0.88    519999\n",
            "   macro avg       0.88      0.88      0.88    519999\n",
            "weighted avg       0.88      0.88      0.88    519999\n",
            "\n"
          ]
        }
      ]
    },
    {
      "cell_type": "code",
      "source": [
        "# Confusion matrix\n",
        "conf_matrix = confusion_matrix(test_labels, y_pred)\n",
        "plt.figure(figsize=(8, 6))\n",
        "sns.heatmap(conf_matrix, annot=True, fmt='d', cmap='Blues', xticklabels=['Negative', 'Positive'], yticklabels=['Negative', 'Positive'])\n",
        "plt.xlabel('Predicted')\n",
        "plt.ylabel('True')\n",
        "plt.title('Confusion Matrix')\n",
        "plt.show()\n"
      ],
      "metadata": {
        "colab": {
          "base_uri": "https://localhost:8080/",
          "height": 564
        },
        "id": "AcfdNPvb2Rr7",
        "outputId": "2cd8e022-2f94-4dfb-c5c1-b1074b991590"
      },
      "execution_count": 30,
      "outputs": [
        {
          "output_type": "display_data",
          "data": {
            "text/plain": [
              "<Figure size 800x600 with 2 Axes>"
            ],
            "image/png": "[encoded data removed]"
          },
          "metadata": {}
        }
      ]
    },
    {
      "cell_type": "code",
      "source": [
        "# Plot training history\n",
        "plt.plot(history.history['accuracy'], label='Train Accuracy')\n",
        "plt.plot(history.history['val_accuracy'], label='Validation Accuracy')\n",
        "plt.xlabel('Epochs')\n",
        "plt.ylabel('Accuracy')\n",
        "plt.legend()\n",
        "plt.title('Accuracy Curve')\n",
        "plt.show()"
      ],
      "metadata": {
        "colab": {
          "base_uri": "https://localhost:8080/",
          "height": 472
        },
        "id": "7TDehOwq2sF3",
        "outputId": "186c9d27-c894-4081-d815-b1976b1fd8dd"
      },
      "execution_count": 28,
      "outputs": [
        {
          "output_type": "display_data",
          "data": {
            "text/plain": [
              "<Figure size 640x480 with 1 Axes>"
            ],
            "image/png": "[encoded data removed]"
          },
          "metadata": {}
        }
      ]
    },
    {
      "cell_type": "code",
      "source": [],
      "metadata": {
        "id": "V0yipY6i2u1q"
      },
      "execution_count": null,
      "outputs": []
    }
  ],
  "metadata": {
    "colab": {
      "provenance": [],
      "toc_visible": true,
      "gpuType": "T4",
      "include_colab_link": true
    },
    "kernelspec": {
      "display_name": "Python 3",
      "name": "python3"
    },
    "language_info": {
      "codemirror_mode": {
        "name": "ipython",
        "version": 3
      },
      "file_extension": ".py",
      "mimetype": "text/x-python",
      "name": "python",
      "nbconvert_exporter": "python",
      "pygments_lexer": "ipython3",
      "version": "3.11.4"
    },
    "accelerator": "GPU"
  },
  "nbformat": 4,
  "nbformat_minor": 0
}