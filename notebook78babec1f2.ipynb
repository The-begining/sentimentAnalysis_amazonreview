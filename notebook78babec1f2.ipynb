{
  "metadata": {
    "kernelspec": {
      "language": "python",
      "display_name": "Python 3",
      "name": "python3"
    },
    "language_info": {
      "name": "python",
      "version": "3.10.13",
      "mimetype": "text/x-python",
      "codemirror_mode": {
        "name": "ipython",
        "version": 3
      },
      "pygments_lexer": "ipython3",
      "nbconvert_exporter": "python",
      "file_extension": ".py"
    },
    "kaggle": {
      "accelerator": "nvidiaTeslaT4",
      "dataSources": [
        {
          "sourceId": 8479802,
          "sourceType": "datasetVersion",
          "datasetId": 5057608
        }
      ],
      "isInternetEnabled": true,
      "language": "python",
      "sourceType": "notebook",
      "isGpuEnabled": true
    },
    "colab": {
      "provenance": [],
      "include_colab_link": true
    }
  },
  "nbformat_minor": 0,
  "nbformat": 4,
  "cells": [
    {
      "cell_type": "markdown",
      "metadata": {
        "id": "view-in-github",
        "colab_type": "text"
      },
      "source": [
        "<a href=\"https://colab.research.google.com/github/The-begining/sentimentAnalysis_amazonreview/blob/main/notebook78babec1f2.ipynb\" target=\"_parent\"><img src=\"https://colab.research.google.com/assets/colab-badge.svg\" alt=\"Open In Colab\"/></a>"
      ]
    },
    {
      "cell_type": "code",
      "source": [
        "# This Python 3 environment comes with many helpful analytics libraries installed\n",
        "# It is defined by the kaggle/python Docker image: https://github.com/kaggle/docker-python\n",
        "# For example, here's several helpful packages to load\n",
        "\n",
        "import numpy as np # linear algebra\n",
        "import pandas as pd # data processing, CSV file I/O (e.g. pd.read_csv)\n",
        "\n",
        "# Input data files are available in the read-only \"../input/\" directory\n",
        "# For example, running this (by clicking run or pressing Shift+Enter) will list all files under the input directory\n",
        "\n",
        "import os\n",
        "for dirname, _, filenames in os.walk('/kaggle/input'):\n",
        "    for filename in filenames:\n",
        "        print(os.path.join(dirname, filename))\n",
        "\n",
        "# You can write up to 20GB to the current directory (/kaggle/working/) that gets preserved as output when you create a version using \"Save & Run All\"\n",
        "# You can also write temporary files to /kaggle/temp/, but they won't be saved outside of the current session"
      ],
      "metadata": {
        "_uuid": "8f2839f25d086af736a60e9eeb907d3b93b6e0e5",
        "_cell_guid": "b1076dfc-b9ad-4769-8c92-a6c4dae69d19",
        "execution": {
          "iopub.status.busy": "2024-05-21T21:07:58.685352Z",
          "iopub.execute_input": "2024-05-21T21:07:58.685653Z",
          "iopub.status.idle": "2024-05-21T21:07:59.517110Z",
          "shell.execute_reply.started": "2024-05-21T21:07:58.685627Z",
          "shell.execute_reply": "2024-05-21T21:07:59.515902Z"
        },
        "trusted": true,
        "id": "iRDIHTJE0vU1",
        "outputId": "2db632b9-41ff-480b-ca90-ba2bf5960ced"
      },
      "execution_count": null,
      "outputs": [
        {
          "name": "stdout",
          "text": "/kaggle/input/amazon-review-raw-cleaned-dataset/training_set_cleaned.csv\n/kaggle/input/amazon-review-raw-cleaned-dataset/test_dataset_cleaned.csv\n",
          "output_type": "stream"
        }
      ]
    },
    {
      "cell_type": "code",
      "source": [
        "!nvcc --version\n"
      ],
      "metadata": {
        "execution": {
          "iopub.status.busy": "2024-05-21T21:46:52.796905Z",
          "iopub.execute_input": "2024-05-21T21:46:52.797178Z",
          "iopub.status.idle": "2024-05-21T21:46:53.807177Z",
          "shell.execute_reply.started": "2024-05-21T21:46:52.797153Z",
          "shell.execute_reply": "2024-05-21T21:46:53.805879Z"
        },
        "trusted": true,
        "id": "714qLemi0vU3",
        "outputId": "ad2a0109-370c-45e9-aded-6d199028bdb1"
      },
      "execution_count": null,
      "outputs": [
        {
          "name": "stdout",
          "text": "nvcc: NVIDIA (R) Cuda compiler driver\nCopyright (c) 2005-2023 NVIDIA Corporation\nBuilt on Mon_Apr__3_17:16:06_PDT_2023\nCuda compilation tools, release 12.1, V12.1.105\nBuild cuda_12.1.r12.1/compiler.32688072_0\n",
          "output_type": "stream"
        }
      ]
    },
    {
      "cell_type": "code",
      "source": [
        "!which nvcc\n"
      ],
      "metadata": {
        "execution": {
          "iopub.status.busy": "2024-05-21T21:49:33.772593Z",
          "iopub.execute_input": "2024-05-21T21:49:33.773180Z",
          "iopub.status.idle": "2024-05-21T21:49:34.713173Z",
          "shell.execute_reply.started": "2024-05-21T21:49:33.773143Z",
          "shell.execute_reply": "2024-05-21T21:49:34.712300Z"
        },
        "trusted": true,
        "id": "ODF9ZAkF0vU3",
        "outputId": "24001504-f39a-4012-ad3e-12f54ca3d0b3"
      },
      "execution_count": null,
      "outputs": [
        {
          "name": "stdout",
          "text": "/opt/conda/bin/nvcc\n",
          "output_type": "stream"
        }
      ]
    },
    {
      "cell_type": "code",
      "source": [
        "import numpy as np\n",
        "import pandas as pd\n",
        "import re\n",
        "#from sklearn.model_selection import train_test_split\n",
        "from tensorflow.keras.preprocessing.text import Tokenizer\n",
        "from tensorflow.keras.preprocessing.sequence import pad_sequences\n",
        "from tensorflow.keras.models import Sequential\n",
        "from tensorflow.keras.layers import Embedding, LSTM, Dense, Dropout\n",
        "from sklearn.metrics import confusion_matrix, classification_report\n",
        "from tensorflow.keras.optimizers import SGD, Adam\n",
        "#import bz2\n",
        "import csv\n",
        "from sklearn.metrics import roc_auc_score"
      ],
      "metadata": {
        "execution": {
          "iopub.status.busy": "2024-05-21T21:50:37.903864Z",
          "iopub.execute_input": "2024-05-21T21:50:37.904536Z",
          "iopub.status.idle": "2024-05-21T21:50:37.911053Z",
          "shell.execute_reply.started": "2024-05-21T21:50:37.904505Z",
          "shell.execute_reply": "2024-05-21T21:50:37.910107Z"
        },
        "trusted": true,
        "id": "UvW3E6Tm0vU4"
      },
      "execution_count": null,
      "outputs": []
    },
    {
      "cell_type": "code",
      "source": [
        "train_dataset = pd.read_csv('/kaggle/input/amazon-review-raw-cleaned-dataset/training_set_cleaned.csv')\n",
        "test_datset =pd.read_csv('/kaggle/input/amazon-review-raw-cleaned-dataset/test_dataset_cleaned.csv')"
      ],
      "metadata": {
        "execution": {
          "iopub.status.busy": "2024-05-21T22:06:00.791509Z",
          "iopub.execute_input": "2024-05-21T22:06:00.792225Z",
          "iopub.status.idle": "2024-05-21T22:06:15.490996Z",
          "shell.execute_reply.started": "2024-05-21T22:06:00.792190Z",
          "shell.execute_reply": "2024-05-21T22:06:15.489928Z"
        },
        "trusted": true,
        "id": "4aK_oZ3M0vU4"
      },
      "execution_count": null,
      "outputs": []
    },
    {
      "cell_type": "code",
      "source": [
        "train_dataset.shape, test_datset.shape"
      ],
      "metadata": {
        "execution": {
          "iopub.status.busy": "2024-05-21T22:07:08.002998Z",
          "iopub.execute_input": "2024-05-21T22:07:08.003900Z",
          "iopub.status.idle": "2024-05-21T22:07:08.009646Z",
          "shell.execute_reply.started": "2024-05-21T22:07:08.003843Z",
          "shell.execute_reply": "2024-05-21T22:07:08.008758Z"
        },
        "trusted": true,
        "id": "0fRvxwpN0vU4",
        "outputId": "22e793cb-cb50-47fb-bbe8-07ad378c9887"
      },
      "execution_count": null,
      "outputs": [
        {
          "execution_count": 22,
          "output_type": "execute_result",
          "data": {
            "text/plain": "((2400000, 3), (519999, 3))"
          },
          "metadata": {}
        }
      ]
    },
    {
      "cell_type": "code",
      "source": [
        "train_dataset['Sentiments'] = train_dataset['Sentiments'].astype(int)\n",
        "test_datset['Sentiments'] = test_datset['Sentiments'].astype(int)\n",
        "\n",
        "train_dataset['text'] = train_dataset['text'].astype(str).fillna('')\n",
        "test_datset['text'] = test_datset['text'].astype(str).fillna('')"
      ],
      "metadata": {
        "execution": {
          "iopub.status.busy": "2024-05-21T22:07:08.933251Z",
          "iopub.execute_input": "2024-05-21T22:07:08.934078Z",
          "iopub.status.idle": "2024-05-21T22:07:09.709297Z",
          "shell.execute_reply.started": "2024-05-21T22:07:08.934043Z",
          "shell.execute_reply": "2024-05-21T22:07:09.708277Z"
        },
        "trusted": true,
        "id": "Mnj9iu_M0vU4"
      },
      "execution_count": null,
      "outputs": []
    },
    {
      "cell_type": "code",
      "source": [
        "# Extract the text and labels\n",
        "train_texts = train_dataset['text'].tolist()\n",
        "train_labels = train_dataset['Sentiments'].tolist()\n",
        "\n",
        "test_texts = test_datset['text'].tolist()\n",
        "test_labels = test_datset['Sentiments'].tolist()"
      ],
      "metadata": {
        "execution": {
          "iopub.status.busy": "2024-05-21T22:07:12.177320Z",
          "iopub.execute_input": "2024-05-21T22:07:12.178056Z",
          "iopub.status.idle": "2024-05-21T22:07:12.584011Z",
          "shell.execute_reply.started": "2024-05-21T22:07:12.178023Z",
          "shell.execute_reply": "2024-05-21T22:07:12.583084Z"
        },
        "trusted": true,
        "id": "jPuMbMDj0vU4"
      },
      "execution_count": null,
      "outputs": []
    },
    {
      "cell_type": "code",
      "source": [
        "# Tokenization and Padding\n",
        "max_words = 1000\n",
        "max_sequence_length = 100\n",
        "\n",
        "tokenizer = Tokenizer(num_words=max_words)\n",
        "tokenizer.fit_on_texts(train_texts)\n",
        "\n",
        "X_train = tokenizer.texts_to_sequences(train_texts)\n",
        "X_test = tokenizer.texts_to_sequences(test_texts)\n",
        "\n",
        "X_train = pad_sequences(X_train, maxlen=max_sequence_length)\n",
        "X_test = pad_sequences(X_test, maxlen=max_sequence_length)"
      ],
      "metadata": {
        "execution": {
          "iopub.status.busy": "2024-05-21T22:07:18.255128Z",
          "iopub.execute_input": "2024-05-21T22:07:18.255777Z",
          "iopub.status.idle": "2024-05-21T22:13:20.560442Z",
          "shell.execute_reply.started": "2024-05-21T22:07:18.255743Z",
          "shell.execute_reply": "2024-05-21T22:13:20.559301Z"
        },
        "trusted": true,
        "id": "gXyzyyxo0vU4"
      },
      "execution_count": null,
      "outputs": []
    },
    {
      "cell_type": "code",
      "source": [
        "# Convert to numpy arrays\n",
        "X_train = np.array(X_train)\n",
        "X_test = np.array(X_test)\n",
        "y_train = np.array(train_labels)\n",
        "y_test = np.array(test_labels)\n",
        "X_train.shape, X_test.shape, y_train.shape, y_test.shape"
      ],
      "metadata": {
        "execution": {
          "iopub.status.busy": "2024-05-21T22:16:11.237786Z",
          "iopub.execute_input": "2024-05-21T22:16:11.238196Z",
          "iopub.status.idle": "2024-05-21T22:16:11.915730Z",
          "shell.execute_reply.started": "2024-05-21T22:16:11.238168Z",
          "shell.execute_reply": "2024-05-21T22:16:11.914836Z"
        },
        "trusted": true,
        "id": "XtXkuXg70vU5",
        "outputId": "f77de939-7150-4ec3-a500-cb1370cdd82d"
      },
      "execution_count": null,
      "outputs": [
        {
          "execution_count": 26,
          "output_type": "execute_result",
          "data": {
            "text/plain": "((2400000, 100), (519999, 100), (2400000,), (519999,))"
          },
          "metadata": {}
        }
      ]
    },
    {
      "cell_type": "code",
      "source": [
        "#create the  model\n",
        "\n",
        "model = Sequential()\n",
        "model.add(Embedding(input_dim = max_words, output_dim = 128))\n",
        "model.add(LSTM(units = 128, return_sequences = True))\n",
        "model.add(Dropout(rate = 0.2))\n",
        "model.add(LSTM(units = 128))\n",
        "model.add(Dense(1, activation = 'sigmoid'))\n",
        "\n",
        "# Print the model summary\n",
        "model.build(input_shape=(None, max_sequence_length))\n",
        "# Compile the model\n",
        "#model.compile(optimizer='adam', loss='binary_crossentropy', metrics=['accuracy'])\n",
        "\n",
        "\n"
      ],
      "metadata": {
        "execution": {
          "iopub.status.busy": "2024-05-21T22:16:20.528749Z",
          "iopub.execute_input": "2024-05-21T22:16:20.529114Z",
          "iopub.status.idle": "2024-05-21T22:16:20.591897Z",
          "shell.execute_reply.started": "2024-05-21T22:16:20.529087Z",
          "shell.execute_reply": "2024-05-21T22:16:20.591172Z"
        },
        "trusted": true,
        "id": "iQ9ZAlmd0vU5"
      },
      "execution_count": null,
      "outputs": []
    },
    {
      "cell_type": "code",
      "source": [
        "model.summary()"
      ],
      "metadata": {
        "execution": {
          "iopub.status.busy": "2024-05-21T22:16:25.142295Z",
          "iopub.execute_input": "2024-05-21T22:16:25.142990Z",
          "iopub.status.idle": "2024-05-21T22:16:25.163276Z",
          "shell.execute_reply.started": "2024-05-21T22:16:25.142955Z",
          "shell.execute_reply": "2024-05-21T22:16:25.162353Z"
        },
        "trusted": true,
        "id": "T5RvS3mO0vU5",
        "outputId": "d6c21a76-4f93-431f-d2e4-c42120f523c6"
      },
      "execution_count": null,
      "outputs": [
        {
          "output_type": "display_data",
          "data": {
            "text/plain": "\u001b[1mModel: \"sequential_5\"\u001b[0m\n",
            "text/html": "<pre style=\"white-space:pre;overflow-x:auto;line-height:normal;font-family:Menlo,'DejaVu Sans Mono',consolas,'Courier New',monospace\"><span style=\"font-weight: bold\">Model: \"sequential_5\"</span>\n</pre>\n"
          },
          "metadata": {}
        },
        {
          "output_type": "display_data",
          "data": {
            "text/plain": "┏━━━━━━━━━━━━━━━━━━━━━━━━━━━━━━━━━┳━━━━━━━━━━━━━━━━━━━━━━━━┳━━━━━━━━━━━━━━━┓\n┃\u001b[1m \u001b[0m\u001b[1mLayer (type)                   \u001b[0m\u001b[1m \u001b[0m┃\u001b[1m \u001b[0m\u001b[1mOutput Shape          \u001b[0m\u001b[1m \u001b[0m┃\u001b[1m \u001b[0m\u001b[1m      Param #\u001b[0m\u001b[1m \u001b[0m┃\n┡━━━━━━━━━━━━━━━━━━━━━━━━━━━━━━━━━╇━━━━━━━━━━━━━━━━━━━━━━━━╇━━━━━━━━━━━━━━━┩\n│ embedding_5 (\u001b[38;5;33mEmbedding\u001b[0m)         │ (\u001b[38;5;45mNone\u001b[0m, \u001b[38;5;34m100\u001b[0m, \u001b[38;5;34m128\u001b[0m)       │       \u001b[38;5;34m128,000\u001b[0m │\n├─────────────────────────────────┼────────────────────────┼───────────────┤\n│ lstm_10 (\u001b[38;5;33mLSTM\u001b[0m)                  │ (\u001b[38;5;45mNone\u001b[0m, \u001b[38;5;34m100\u001b[0m, \u001b[38;5;34m128\u001b[0m)       │       \u001b[38;5;34m131,584\u001b[0m │\n├─────────────────────────────────┼────────────────────────┼───────────────┤\n│ dropout_5 (\u001b[38;5;33mDropout\u001b[0m)             │ (\u001b[38;5;45mNone\u001b[0m, \u001b[38;5;34m100\u001b[0m, \u001b[38;5;34m128\u001b[0m)       │             \u001b[38;5;34m0\u001b[0m │\n├─────────────────────────────────┼────────────────────────┼───────────────┤\n│ lstm_11 (\u001b[38;5;33mLSTM\u001b[0m)                  │ (\u001b[38;5;45mNone\u001b[0m, \u001b[38;5;34m128\u001b[0m)            │       \u001b[38;5;34m131,584\u001b[0m │\n├─────────────────────────────────┼────────────────────────┼───────────────┤\n│ dense_5 (\u001b[38;5;33mDense\u001b[0m)                 │ (\u001b[38;5;45mNone\u001b[0m, \u001b[38;5;34m1\u001b[0m)              │           \u001b[38;5;34m129\u001b[0m │\n└─────────────────────────────────┴────────────────────────┴───────────────┘\n",
            "text/html": "<pre style=\"white-space:pre;overflow-x:auto;line-height:normal;font-family:Menlo,'DejaVu Sans Mono',consolas,'Courier New',monospace\">┏━━━━━━━━━━━━━━━━━━━━━━━━━━━━━━━━━┳━━━━━━━━━━━━━━━━━━━━━━━━┳━━━━━━━━━━━━━━━┓\n┃<span style=\"font-weight: bold\"> Layer (type)                    </span>┃<span style=\"font-weight: bold\"> Output Shape           </span>┃<span style=\"font-weight: bold\">       Param # </span>┃\n┡━━━━━━━━━━━━━━━━━━━━━━━━━━━━━━━━━╇━━━━━━━━━━━━━━━━━━━━━━━━╇━━━━━━━━━━━━━━━┩\n│ embedding_5 (<span style=\"color: #0087ff; text-decoration-color: #0087ff\">Embedding</span>)         │ (<span style=\"color: #00d7ff; text-decoration-color: #00d7ff\">None</span>, <span style=\"color: #00af00; text-decoration-color: #00af00\">100</span>, <span style=\"color: #00af00; text-decoration-color: #00af00\">128</span>)       │       <span style=\"color: #00af00; text-decoration-color: #00af00\">128,000</span> │\n├─────────────────────────────────┼────────────────────────┼───────────────┤\n│ lstm_10 (<span style=\"color: #0087ff; text-decoration-color: #0087ff\">LSTM</span>)                  │ (<span style=\"color: #00d7ff; text-decoration-color: #00d7ff\">None</span>, <span style=\"color: #00af00; text-decoration-color: #00af00\">100</span>, <span style=\"color: #00af00; text-decoration-color: #00af00\">128</span>)       │       <span style=\"color: #00af00; text-decoration-color: #00af00\">131,584</span> │\n├─────────────────────────────────┼────────────────────────┼───────────────┤\n│ dropout_5 (<span style=\"color: #0087ff; text-decoration-color: #0087ff\">Dropout</span>)             │ (<span style=\"color: #00d7ff; text-decoration-color: #00d7ff\">None</span>, <span style=\"color: #00af00; text-decoration-color: #00af00\">100</span>, <span style=\"color: #00af00; text-decoration-color: #00af00\">128</span>)       │             <span style=\"color: #00af00; text-decoration-color: #00af00\">0</span> │\n├─────────────────────────────────┼────────────────────────┼───────────────┤\n│ lstm_11 (<span style=\"color: #0087ff; text-decoration-color: #0087ff\">LSTM</span>)                  │ (<span style=\"color: #00d7ff; text-decoration-color: #00d7ff\">None</span>, <span style=\"color: #00af00; text-decoration-color: #00af00\">128</span>)            │       <span style=\"color: #00af00; text-decoration-color: #00af00\">131,584</span> │\n├─────────────────────────────────┼────────────────────────┼───────────────┤\n│ dense_5 (<span style=\"color: #0087ff; text-decoration-color: #0087ff\">Dense</span>)                 │ (<span style=\"color: #00d7ff; text-decoration-color: #00d7ff\">None</span>, <span style=\"color: #00af00; text-decoration-color: #00af00\">1</span>)              │           <span style=\"color: #00af00; text-decoration-color: #00af00\">129</span> │\n└─────────────────────────────────┴────────────────────────┴───────────────┘\n</pre>\n"
          },
          "metadata": {}
        },
        {
          "output_type": "display_data",
          "data": {
            "text/plain": "\u001b[1m Total params: \u001b[0m\u001b[38;5;34m391,297\u001b[0m (1.49 MB)\n",
            "text/html": "<pre style=\"white-space:pre;overflow-x:auto;line-height:normal;font-family:Menlo,'DejaVu Sans Mono',consolas,'Courier New',monospace\"><span style=\"font-weight: bold\"> Total params: </span><span style=\"color: #00af00; text-decoration-color: #00af00\">391,297</span> (1.49 MB)\n</pre>\n"
          },
          "metadata": {}
        },
        {
          "output_type": "display_data",
          "data": {
            "text/plain": "\u001b[1m Trainable params: \u001b[0m\u001b[38;5;34m391,297\u001b[0m (1.49 MB)\n",
            "text/html": "<pre style=\"white-space:pre;overflow-x:auto;line-height:normal;font-family:Menlo,'DejaVu Sans Mono',consolas,'Courier New',monospace\"><span style=\"font-weight: bold\"> Trainable params: </span><span style=\"color: #00af00; text-decoration-color: #00af00\">391,297</span> (1.49 MB)\n</pre>\n"
          },
          "metadata": {}
        },
        {
          "output_type": "display_data",
          "data": {
            "text/plain": "\u001b[1m Non-trainable params: \u001b[0m\u001b[38;5;34m0\u001b[0m (0.00 B)\n",
            "text/html": "<pre style=\"white-space:pre;overflow-x:auto;line-height:normal;font-family:Menlo,'DejaVu Sans Mono',consolas,'Courier New',monospace\"><span style=\"font-weight: bold\"> Non-trainable params: </span><span style=\"color: #00af00; text-decoration-color: #00af00\">0</span> (0.00 B)\n</pre>\n"
          },
          "metadata": {}
        }
      ]
    },
    {
      "cell_type": "code",
      "source": [
        "X_train.shape, y_train.shape"
      ],
      "metadata": {
        "execution": {
          "iopub.status.busy": "2024-05-21T22:31:29.131492Z",
          "iopub.execute_input": "2024-05-21T22:31:29.131857Z",
          "iopub.status.idle": "2024-05-21T22:31:29.138524Z",
          "shell.execute_reply.started": "2024-05-21T22:31:29.131829Z",
          "shell.execute_reply": "2024-05-21T22:31:29.137392Z"
        },
        "trusted": true,
        "id": "tYuKthB_0vU5",
        "outputId": "e6147d0d-19c7-42a3-96c3-cb3320337974"
      },
      "execution_count": null,
      "outputs": [
        {
          "execution_count": 31,
          "output_type": "execute_result",
          "data": {
            "text/plain": "((2400000, 100), (2400000,))"
          },
          "metadata": {}
        }
      ]
    },
    {
      "cell_type": "code",
      "source": [
        "model.compile(loss='binary_crossentropy', optimizer='Adam', metrics=['accuracy'])\n",
        "history = model.fit(X_train, y_train, epochs=100, batch_size=2048, verbose=1, validation_data=(X_test, y_test))\n"
      ],
      "metadata": {
        "execution": {
          "iopub.status.busy": "2024-05-21T22:37:06.509580Z",
          "iopub.execute_input": "2024-05-21T22:37:06.509984Z",
          "iopub.status.idle": "2024-05-22T04:00:04.954313Z",
          "shell.execute_reply.started": "2024-05-21T22:37:06.509951Z",
          "shell.execute_reply": "2024-05-22T04:00:04.953298Z"
        },
        "trusted": true,
        "id": "VtXxw0y90vU5",
        "outputId": "0734c85d-6bd1-4900-c2b9-6530851b2a13"
      },
      "execution_count": null,
      "outputs": [
        {
          "name": "stdout",
          "text": "Epoch 1/100\n\u001b[1m1172/1172\u001b[0m \u001b[32m━━━━━━━━━━━━━━━━━━━━\u001b[0m\u001b[37m\u001b[0m \u001b[1m196s\u001b[0m 166ms/step - accuracy: 0.9183 - loss: 0.2034 - val_accuracy: 0.9163 - val_loss: 0.2082\nEpoch 2/100\n\u001b[1m1172/1172\u001b[0m \u001b[32m━━━━━━━━━━━━━━━━━━━━\u001b[0m\u001b[37m\u001b[0m \u001b[1m194s\u001b[0m 165ms/step - accuracy: 0.9212 - loss: 0.1973 - val_accuracy: 0.9171 - val_loss: 0.2062\nEpoch 3/100\n\u001b[1m1172/1172\u001b[0m \u001b[32m━━━━━━━━━━━━━━━━━━━━\u001b[0m\u001b[37m\u001b[0m \u001b[1m193s\u001b[0m 165ms/step - accuracy: 0.9236 - loss: 0.1917 - val_accuracy: 0.9189 - val_loss: 0.2031\nEpoch 4/100\n\u001b[1m1172/1172\u001b[0m \u001b[32m━━━━━━━━━━━━━━━━━━━━\u001b[0m\u001b[37m\u001b[0m \u001b[1m194s\u001b[0m 165ms/step - accuracy: 0.9259 - loss: 0.1867 - val_accuracy: 0.9186 - val_loss: 0.2038\nEpoch 5/100\n\u001b[1m1172/1172\u001b[0m \u001b[32m━━━━━━━━━━━━━━━━━━━━\u001b[0m\u001b[37m\u001b[0m \u001b[1m193s\u001b[0m 165ms/step - accuracy: 0.9280 - loss: 0.1816 - val_accuracy: 0.9197 - val_loss: 0.2015\nEpoch 6/100\n\u001b[1m1172/1172\u001b[0m \u001b[32m━━━━━━━━━━━━━━━━━━━━\u001b[0m\u001b[37m\u001b[0m \u001b[1m194s\u001b[0m 165ms/step - accuracy: 0.9301 - loss: 0.1778 - val_accuracy: 0.9212 - val_loss: 0.1984\nEpoch 7/100\n\u001b[1m1172/1172\u001b[0m \u001b[32m━━━━━━━━━━━━━━━━━━━━\u001b[0m\u001b[37m\u001b[0m \u001b[1m194s\u001b[0m 165ms/step - accuracy: 0.9321 - loss: 0.1733 - val_accuracy: 0.9212 - val_loss: 0.1994\nEpoch 8/100\n\u001b[1m1172/1172\u001b[0m \u001b[32m━━━━━━━━━━━━━━━━━━━━\u001b[0m\u001b[37m\u001b[0m \u001b[1m194s\u001b[0m 165ms/step - accuracy: 0.9340 - loss: 0.1687 - val_accuracy: 0.9216 - val_loss: 0.1979\nEpoch 9/100\n\u001b[1m1172/1172\u001b[0m \u001b[32m━━━━━━━━━━━━━━━━━━━━\u001b[0m\u001b[37m\u001b[0m \u001b[1m194s\u001b[0m 165ms/step - accuracy: 0.9353 - loss: 0.1659 - val_accuracy: 0.9208 - val_loss: 0.1995\nEpoch 10/100\n\u001b[1m1172/1172\u001b[0m \u001b[32m━━━━━━━━━━━━━━━━━━━━\u001b[0m\u001b[37m\u001b[0m \u001b[1m194s\u001b[0m 165ms/step - accuracy: 0.9369 - loss: 0.1626 - val_accuracy: 0.9209 - val_loss: 0.2025\nEpoch 11/100\n\u001b[1m1172/1172\u001b[0m \u001b[32m━━━━━━━━━━━━━━━━━━━━\u001b[0m\u001b[37m\u001b[0m \u001b[1m194s\u001b[0m 165ms/step - accuracy: 0.9387 - loss: 0.1582 - val_accuracy: 0.9200 - val_loss: 0.2035\nEpoch 12/100\n\u001b[1m1172/1172\u001b[0m \u001b[32m━━━━━━━━━━━━━━━━━━━━\u001b[0m\u001b[37m\u001b[0m \u001b[1m194s\u001b[0m 165ms/step - accuracy: 0.9400 - loss: 0.1555 - val_accuracy: 0.9201 - val_loss: 0.2037\nEpoch 13/100\n\u001b[1m1172/1172\u001b[0m \u001b[32m━━━━━━━━━━━━━━━━━━━━\u001b[0m\u001b[37m\u001b[0m \u001b[1m194s\u001b[0m 165ms/step - accuracy: 0.9413 - loss: 0.1523 - val_accuracy: 0.9200 - val_loss: 0.2059\nEpoch 14/100\n\u001b[1m1172/1172\u001b[0m \u001b[32m━━━━━━━━━━━━━━━━━━━━\u001b[0m\u001b[37m\u001b[0m \u001b[1m194s\u001b[0m 165ms/step - accuracy: 0.9432 - loss: 0.1487 - val_accuracy: 0.9197 - val_loss: 0.2078\nEpoch 15/100\n\u001b[1m1172/1172\u001b[0m \u001b[32m━━━━━━━━━━━━━━━━━━━━\u001b[0m\u001b[37m\u001b[0m \u001b[1m194s\u001b[0m 165ms/step - accuracy: 0.9444 - loss: 0.1453 - val_accuracy: 0.9189 - val_loss: 0.2097\nEpoch 16/100\n\u001b[1m1172/1172\u001b[0m \u001b[32m━━━━━━━━━━━━━━━━━━━━\u001b[0m\u001b[37m\u001b[0m \u001b[1m194s\u001b[0m 165ms/step - accuracy: 0.9456 - loss: 0.1426 - val_accuracy: 0.9187 - val_loss: 0.2123\nEpoch 17/100\n\u001b[1m1172/1172\u001b[0m \u001b[32m━━━━━━━━━━━━━━━━━━━━\u001b[0m\u001b[37m\u001b[0m \u001b[1m194s\u001b[0m 165ms/step - accuracy: 0.9468 - loss: 0.1395 - val_accuracy: 0.9187 - val_loss: 0.2164\nEpoch 18/100\n\u001b[1m1172/1172\u001b[0m \u001b[32m━━━━━━━━━━━━━━━━━━━━\u001b[0m\u001b[37m\u001b[0m \u001b[1m194s\u001b[0m 165ms/step - accuracy: 0.9482 - loss: 0.1364 - val_accuracy: 0.9175 - val_loss: 0.2211\nEpoch 19/100\n\u001b[1m1172/1172\u001b[0m \u001b[32m━━━━━━━━━━━━━━━━━━━━\u001b[0m\u001b[37m\u001b[0m \u001b[1m194s\u001b[0m 165ms/step - accuracy: 0.9498 - loss: 0.1330 - val_accuracy: 0.9175 - val_loss: 0.2183\nEpoch 20/100\n\u001b[1m1172/1172\u001b[0m \u001b[32m━━━━━━━━━━━━━━━━━━━━\u001b[0m\u001b[37m\u001b[0m \u001b[1m194s\u001b[0m 165ms/step - accuracy: 0.9505 - loss: 0.1317 - val_accuracy: 0.9168 - val_loss: 0.2257\nEpoch 21/100\n\u001b[1m1172/1172\u001b[0m \u001b[32m━━━━━━━━━━━━━━━━━━━━\u001b[0m\u001b[37m\u001b[0m \u001b[1m194s\u001b[0m 165ms/step - accuracy: 0.9516 - loss: 0.1287 - val_accuracy: 0.9167 - val_loss: 0.2278\nEpoch 22/100\n\u001b[1m1172/1172\u001b[0m \u001b[32m━━━━━━━━━━━━━━━━━━━━\u001b[0m\u001b[37m\u001b[0m \u001b[1m194s\u001b[0m 165ms/step - accuracy: 0.9525 - loss: 0.1267 - val_accuracy: 0.9163 - val_loss: 0.2297\nEpoch 23/100\n\u001b[1m1172/1172\u001b[0m \u001b[32m━━━━━━━━━━━━━━━━━━━━\u001b[0m\u001b[37m\u001b[0m \u001b[1m194s\u001b[0m 165ms/step - accuracy: 0.9532 - loss: 0.1248 - val_accuracy: 0.9154 - val_loss: 0.2331\nEpoch 24/100\n\u001b[1m1172/1172\u001b[0m \u001b[32m━━━━━━━━━━━━━━━━━━━━\u001b[0m\u001b[37m\u001b[0m \u001b[1m193s\u001b[0m 165ms/step - accuracy: 0.9543 - loss: 0.1221 - val_accuracy: 0.9149 - val_loss: 0.2387\nEpoch 25/100\n\u001b[1m1172/1172\u001b[0m \u001b[32m━━━━━━━━━━━━━━━━━━━━\u001b[0m\u001b[37m\u001b[0m \u001b[1m194s\u001b[0m 165ms/step - accuracy: 0.9551 - loss: 0.1202 - val_accuracy: 0.9150 - val_loss: 0.2392\nEpoch 26/100\n\u001b[1m1172/1172\u001b[0m \u001b[32m━━━━━━━━━━━━━━━━━━━━\u001b[0m\u001b[37m\u001b[0m \u001b[1m194s\u001b[0m 165ms/step - accuracy: 0.9560 - loss: 0.1179 - val_accuracy: 0.9154 - val_loss: 0.2471\nEpoch 27/100\n\u001b[1m1172/1172\u001b[0m \u001b[32m━━━━━━━━━━━━━━━━━━━━\u001b[0m\u001b[37m\u001b[0m \u001b[1m194s\u001b[0m 165ms/step - accuracy: 0.9566 - loss: 0.1168 - val_accuracy: 0.9144 - val_loss: 0.2420\nEpoch 28/100\n\u001b[1m1172/1172\u001b[0m \u001b[32m━━━━━━━━━━━━━━━━━━━━\u001b[0m\u001b[37m\u001b[0m \u001b[1m194s\u001b[0m 165ms/step - accuracy: 0.9572 - loss: 0.1154 - val_accuracy: 0.9141 - val_loss: 0.2525\nEpoch 29/100\n\u001b[1m1172/1172\u001b[0m \u001b[32m━━━━━━━━━━━━━━━━━━━━\u001b[0m\u001b[37m\u001b[0m \u001b[1m194s\u001b[0m 165ms/step - accuracy: 0.9581 - loss: 0.1132 - val_accuracy: 0.9139 - val_loss: 0.2492\nEpoch 30/100\n\u001b[1m1172/1172\u001b[0m \u001b[32m━━━━━━━━━━━━━━━━━━━━\u001b[0m\u001b[37m\u001b[0m \u001b[1m194s\u001b[0m 165ms/step - accuracy: 0.9587 - loss: 0.1119 - val_accuracy: 0.9136 - val_loss: 0.2540\nEpoch 31/100\n\u001b[1m1172/1172\u001b[0m \u001b[32m━━━━━━━━━━━━━━━━━━━━\u001b[0m\u001b[37m\u001b[0m \u001b[1m194s\u001b[0m 165ms/step - accuracy: 0.9591 - loss: 0.1106 - val_accuracy: 0.9137 - val_loss: 0.2582\nEpoch 32/100\n\u001b[1m1172/1172\u001b[0m \u001b[32m━━━━━━━━━━━━━━━━━━━━\u001b[0m\u001b[37m\u001b[0m \u001b[1m194s\u001b[0m 165ms/step - accuracy: 0.9599 - loss: 0.1086 - val_accuracy: 0.9131 - val_loss: 0.2551\nEpoch 33/100\n\u001b[1m1172/1172\u001b[0m \u001b[32m━━━━━━━━━━━━━━━━━━━━\u001b[0m\u001b[37m\u001b[0m \u001b[1m194s\u001b[0m 165ms/step - accuracy: 0.9604 - loss: 0.1075 - val_accuracy: 0.9125 - val_loss: 0.2596\nEpoch 34/100\n\u001b[1m1172/1172\u001b[0m \u001b[32m━━━━━━━━━━━━━━━━━━━━\u001b[0m\u001b[37m\u001b[0m \u001b[1m193s\u001b[0m 165ms/step - accuracy: 0.9613 - loss: 0.1055 - val_accuracy: 0.9121 - val_loss: 0.2631\nEpoch 35/100\n\u001b[1m1172/1172\u001b[0m \u001b[32m━━━━━━━━━━━━━━━━━━━━\u001b[0m\u001b[37m\u001b[0m \u001b[1m194s\u001b[0m 165ms/step - accuracy: 0.9616 - loss: 0.1046 - val_accuracy: 0.9118 - val_loss: 0.2661\nEpoch 36/100\n\u001b[1m1172/1172\u001b[0m \u001b[32m━━━━━━━━━━━━━━━━━━━━\u001b[0m\u001b[37m\u001b[0m \u001b[1m193s\u001b[0m 165ms/step - accuracy: 0.9620 - loss: 0.1038 - val_accuracy: 0.9121 - val_loss: 0.2682\nEpoch 37/100\n\u001b[1m1172/1172\u001b[0m \u001b[32m━━━━━━━━━━━━━━━━━━━━\u001b[0m\u001b[37m\u001b[0m \u001b[1m203s\u001b[0m 165ms/step - accuracy: 0.9626 - loss: 0.1021 - val_accuracy: 0.9105 - val_loss: 0.2680\nEpoch 38/100\n\u001b[1m1172/1172\u001b[0m \u001b[32m━━━━━━━━━━━━━━━━━━━━\u001b[0m\u001b[37m\u001b[0m \u001b[1m194s\u001b[0m 165ms/step - accuracy: 0.9628 - loss: 0.1015 - val_accuracy: 0.9117 - val_loss: 0.2753\nEpoch 39/100\n\u001b[1m1172/1172\u001b[0m \u001b[32m━━━━━━━━━━━━━━━━━━━━\u001b[0m\u001b[37m\u001b[0m \u001b[1m194s\u001b[0m 165ms/step - accuracy: 0.9635 - loss: 0.1000 - val_accuracy: 0.9112 - val_loss: 0.2757\nEpoch 40/100\n\u001b[1m1172/1172\u001b[0m \u001b[32m━━━━━━━━━━━━━━━━━━━━\u001b[0m\u001b[37m\u001b[0m \u001b[1m194s\u001b[0m 165ms/step - accuracy: 0.9637 - loss: 0.0989 - val_accuracy: 0.9104 - val_loss: 0.2781\nEpoch 41/100\n\u001b[1m1172/1172\u001b[0m \u001b[32m━━━━━━━━━━━━━━━━━━━━\u001b[0m\u001b[37m\u001b[0m \u001b[1m194s\u001b[0m 165ms/step - accuracy: 0.9643 - loss: 0.0976 - val_accuracy: 0.9106 - val_loss: 0.2848\nEpoch 42/100\n\u001b[1m1172/1172\u001b[0m \u001b[32m━━━━━━━━━━━━━━━━━━━━\u001b[0m\u001b[37m\u001b[0m \u001b[1m194s\u001b[0m 165ms/step - accuracy: 0.9644 - loss: 0.0972 - val_accuracy: 0.9109 - val_loss: 0.2774\nEpoch 43/100\n\u001b[1m1172/1172\u001b[0m \u001b[32m━━━━━━━━━━━━━━━━━━━━\u001b[0m\u001b[37m\u001b[0m \u001b[1m193s\u001b[0m 165ms/step - accuracy: 0.9650 - loss: 0.0960 - val_accuracy: 0.9105 - val_loss: 0.2844\nEpoch 44/100\n\u001b[1m1172/1172\u001b[0m \u001b[32m━━━━━━━━━━━━━━━━━━━━\u001b[0m\u001b[37m\u001b[0m \u001b[1m194s\u001b[0m 165ms/step - accuracy: 0.9654 - loss: 0.0952 - val_accuracy: 0.9102 - val_loss: 0.2863\nEpoch 45/100\n\u001b[1m1172/1172\u001b[0m \u001b[32m━━━━━━━━━━━━━━━━━━━━\u001b[0m\u001b[37m\u001b[0m \u001b[1m194s\u001b[0m 165ms/step - accuracy: 0.9656 - loss: 0.0944 - val_accuracy: 0.9104 - val_loss: 0.2900\nEpoch 46/100\n\u001b[1m1172/1172\u001b[0m \u001b[32m━━━━━━━━━━━━━━━━━━━━\u001b[0m\u001b[37m\u001b[0m \u001b[1m194s\u001b[0m 165ms/step - accuracy: 0.9661 - loss: 0.0931 - val_accuracy: 0.9100 - val_loss: 0.2904\nEpoch 47/100\n\u001b[1m1172/1172\u001b[0m \u001b[32m━━━━━━━━━━━━━━━━━━━━\u001b[0m\u001b[37m\u001b[0m \u001b[1m194s\u001b[0m 165ms/step - accuracy: 0.9661 - loss: 0.0926 - val_accuracy: 0.9099 - val_loss: 0.2902\nEpoch 48/100\n\u001b[1m1172/1172\u001b[0m \u001b[32m━━━━━━━━━━━━━━━━━━━━\u001b[0m\u001b[37m\u001b[0m \u001b[1m193s\u001b[0m 165ms/step - accuracy: 0.9668 - loss: 0.0915 - val_accuracy: 0.9096 - val_loss: 0.2948\nEpoch 49/100\n\u001b[1m1172/1172\u001b[0m \u001b[32m━━━━━━━━━━━━━━━━━━━━\u001b[0m\u001b[37m\u001b[0m \u001b[1m193s\u001b[0m 165ms/step - accuracy: 0.9670 - loss: 0.0914 - val_accuracy: 0.9097 - val_loss: 0.2965\nEpoch 50/100\n\u001b[1m1172/1172\u001b[0m \u001b[32m━━━━━━━━━━━━━━━━━━━━\u001b[0m\u001b[37m\u001b[0m \u001b[1m194s\u001b[0m 165ms/step - accuracy: 0.9671 - loss: 0.0904 - val_accuracy: 0.9094 - val_loss: 0.2961\nEpoch 51/100\n\u001b[1m1172/1172\u001b[0m \u001b[32m━━━━━━━━━━━━━━━━━━━━\u001b[0m\u001b[37m\u001b[0m \u001b[1m194s\u001b[0m 165ms/step - accuracy: 0.9676 - loss: 0.0893 - val_accuracy: 0.9087 - val_loss: 0.2994\nEpoch 52/100\n\u001b[1m1172/1172\u001b[0m \u001b[32m━━━━━━━━━━━━━━━━━━━━\u001b[0m\u001b[37m\u001b[0m \u001b[1m194s\u001b[0m 165ms/step - accuracy: 0.9678 - loss: 0.0887 - val_accuracy: 0.9098 - val_loss: 0.3042\nEpoch 53/100\n\u001b[1m1172/1172\u001b[0m \u001b[32m━━━━━━━━━━━━━━━━━━━━\u001b[0m\u001b[37m\u001b[0m \u001b[1m194s\u001b[0m 165ms/step - accuracy: 0.9680 - loss: 0.0882 - val_accuracy: 0.9093 - val_loss: 0.3018\nEpoch 54/100\n\u001b[1m1172/1172\u001b[0m \u001b[32m━━━━━━━━━━━━━━━━━━━━\u001b[0m\u001b[37m\u001b[0m \u001b[1m194s\u001b[0m 165ms/step - accuracy: 0.9683 - loss: 0.0876 - val_accuracy: 0.9091 - val_loss: 0.3036\nEpoch 55/100\n\u001b[1m1172/1172\u001b[0m \u001b[32m━━━━━━━━━━━━━━━━━━━━\u001b[0m\u001b[37m\u001b[0m \u001b[1m194s\u001b[0m 165ms/step - accuracy: 0.9672 - loss: 0.0899 - val_accuracy: 0.9095 - val_loss: 0.3016\nEpoch 56/100\n\u001b[1m1172/1172\u001b[0m \u001b[32m━━━━━━━━━━━━━━━━━━━━\u001b[0m\u001b[37m\u001b[0m \u001b[1m194s\u001b[0m 165ms/step - accuracy: 0.9689 - loss: 0.0859 - val_accuracy: 0.9088 - val_loss: 0.3069\nEpoch 57/100\n\u001b[1m1172/1172\u001b[0m \u001b[32m━━━━━━━━━━━━━━━━━━━━\u001b[0m\u001b[37m\u001b[0m \u001b[1m194s\u001b[0m 165ms/step - accuracy: 0.9691 - loss: 0.0857 - val_accuracy: 0.9092 - val_loss: 0.3119\nEpoch 58/100\n\u001b[1m1172/1172\u001b[0m \u001b[32m━━━━━━━━━━━━━━━━━━━━\u001b[0m\u001b[37m\u001b[0m \u001b[1m194s\u001b[0m 165ms/step - accuracy: 0.9689 - loss: 0.0853 - val_accuracy: 0.9087 - val_loss: 0.3148\nEpoch 59/100\n\u001b[1m1172/1172\u001b[0m \u001b[32m━━━━━━━━━━━━━━━━━━━━\u001b[0m\u001b[37m\u001b[0m \u001b[1m194s\u001b[0m 165ms/step - accuracy: 0.9693 - loss: 0.0846 - val_accuracy: 0.9082 - val_loss: 0.3091\nEpoch 60/100\n\u001b[1m1172/1172\u001b[0m \u001b[32m━━━━━━━━━━━━━━━━━━━━\u001b[0m\u001b[37m\u001b[0m \u001b[1m193s\u001b[0m 165ms/step - accuracy: 0.9696 - loss: 0.0838 - val_accuracy: 0.9078 - val_loss: 0.3165\nEpoch 61/100\n\u001b[1m1172/1172\u001b[0m \u001b[32m━━━━━━━━━━━━━━━━━━━━\u001b[0m\u001b[37m\u001b[0m \u001b[1m194s\u001b[0m 165ms/step - accuracy: 0.9700 - loss: 0.0827 - val_accuracy: 0.9086 - val_loss: 0.3159\nEpoch 62/100\n\u001b[1m1172/1172\u001b[0m \u001b[32m━━━━━━━━━━━━━━━━━━━━\u001b[0m\u001b[37m\u001b[0m \u001b[1m194s\u001b[0m 165ms/step - accuracy: 0.9699 - loss: 0.0831 - val_accuracy: 0.9086 - val_loss: 0.3218\nEpoch 63/100\n\u001b[1m1172/1172\u001b[0m \u001b[32m━━━━━━━━━━━━━━━━━━━━\u001b[0m\u001b[37m\u001b[0m \u001b[1m194s\u001b[0m 165ms/step - accuracy: 0.9701 - loss: 0.0824 - val_accuracy: 0.9082 - val_loss: 0.3203\nEpoch 64/100\n\u001b[1m1172/1172\u001b[0m \u001b[32m━━━━━━━━━━━━━━━━━━━━\u001b[0m\u001b[37m\u001b[0m \u001b[1m194s\u001b[0m 165ms/step - accuracy: 0.9702 - loss: 0.0819 - val_accuracy: 0.9079 - val_loss: 0.3221\nEpoch 65/100\n\u001b[1m1172/1172\u001b[0m \u001b[32m━━━━━━━━━━━━━━━━━━━━\u001b[0m\u001b[37m\u001b[0m \u001b[1m194s\u001b[0m 165ms/step - accuracy: 0.9707 - loss: 0.0810 - val_accuracy: 0.9081 - val_loss: 0.3201\nEpoch 66/100\n\u001b[1m1172/1172\u001b[0m \u001b[32m━━━━━━━━━━━━━━━━━━━━\u001b[0m\u001b[37m\u001b[0m \u001b[1m194s\u001b[0m 165ms/step - accuracy: 0.9706 - loss: 0.0811 - val_accuracy: 0.9078 - val_loss: 0.3202\nEpoch 67/100\n\u001b[1m1172/1172\u001b[0m \u001b[32m━━━━━━━━━━━━━━━━━━━━\u001b[0m\u001b[37m\u001b[0m \u001b[1m194s\u001b[0m 165ms/step - accuracy: 0.9709 - loss: 0.0803 - val_accuracy: 0.9080 - val_loss: 0.3280\nEpoch 68/100\n\u001b[1m1172/1172\u001b[0m \u001b[32m━━━━━━━━━━━━━━━━━━━━\u001b[0m\u001b[37m\u001b[0m \u001b[1m194s\u001b[0m 165ms/step - accuracy: 0.9711 - loss: 0.0797 - val_accuracy: 0.9081 - val_loss: 0.3262\nEpoch 69/100\n\u001b[1m1172/1172\u001b[0m \u001b[32m━━━━━━━━━━━━━━━━━━━━\u001b[0m\u001b[37m\u001b[0m \u001b[1m194s\u001b[0m 165ms/step - accuracy: 0.9711 - loss: 0.0797 - val_accuracy: 0.9074 - val_loss: 0.3273\nEpoch 70/100\n\u001b[1m1172/1172\u001b[0m \u001b[32m━━━━━━━━━━━━━━━━━━━━\u001b[0m\u001b[37m\u001b[0m \u001b[1m194s\u001b[0m 165ms/step - accuracy: 0.9713 - loss: 0.0792 - val_accuracy: 0.9075 - val_loss: 0.3241\nEpoch 71/100\n\u001b[1m1172/1172\u001b[0m \u001b[32m━━━━━━━━━━━━━━━━━━━━\u001b[0m\u001b[37m\u001b[0m \u001b[1m194s\u001b[0m 165ms/step - accuracy: 0.9715 - loss: 0.0787 - val_accuracy: 0.9075 - val_loss: 0.3246\nEpoch 72/100\n\u001b[1m1172/1172\u001b[0m \u001b[32m━━━━━━━━━━━━━━━━━━━━\u001b[0m\u001b[37m\u001b[0m \u001b[1m194s\u001b[0m 165ms/step - accuracy: 0.9717 - loss: 0.0781 - val_accuracy: 0.9073 - val_loss: 0.3253\nEpoch 73/100\n\u001b[1m1172/1172\u001b[0m \u001b[32m━━━━━━━━━━━━━━━━━━━━\u001b[0m\u001b[37m\u001b[0m \u001b[1m194s\u001b[0m 165ms/step - accuracy: 0.9719 - loss: 0.0777 - val_accuracy: 0.9073 - val_loss: 0.3311\nEpoch 74/100\n\u001b[1m1172/1172\u001b[0m \u001b[32m━━━━━━━━━━━━━━━━━━━━\u001b[0m\u001b[37m\u001b[0m \u001b[1m194s\u001b[0m 165ms/step - accuracy: 0.9720 - loss: 0.0776 - val_accuracy: 0.9063 - val_loss: 0.3350\nEpoch 75/100\n\u001b[1m1172/1172\u001b[0m \u001b[32m━━━━━━━━━━━━━━━━━━━━\u001b[0m\u001b[37m\u001b[0m \u001b[1m194s\u001b[0m 165ms/step - accuracy: 0.9722 - loss: 0.0769 - val_accuracy: 0.9069 - val_loss: 0.3346\nEpoch 76/100\n\u001b[1m1172/1172\u001b[0m \u001b[32m━━━━━━━━━━━━━━━━━━━━\u001b[0m\u001b[37m\u001b[0m \u001b[1m194s\u001b[0m 165ms/step - accuracy: 0.9719 - loss: 0.0772 - val_accuracy: 0.9068 - val_loss: 0.3317\nEpoch 77/100\n\u001b[1m1172/1172\u001b[0m \u001b[32m━━━━━━━━━━━━━━━━━━━━\u001b[0m\u001b[37m\u001b[0m \u001b[1m194s\u001b[0m 165ms/step - accuracy: 0.9724 - loss: 0.0761 - val_accuracy: 0.9068 - val_loss: 0.3397\nEpoch 78/100\n\u001b[1m1172/1172\u001b[0m \u001b[32m━━━━━━━━━━━━━━━━━━━━\u001b[0m\u001b[37m\u001b[0m \u001b[1m193s\u001b[0m 165ms/step - accuracy: 0.9726 - loss: 0.0756 - val_accuracy: 0.9074 - val_loss: 0.3350\nEpoch 79/100\n\u001b[1m1172/1172\u001b[0m \u001b[32m━━━━━━━━━━━━━━━━━━━━\u001b[0m\u001b[37m\u001b[0m \u001b[1m193s\u001b[0m 165ms/step - accuracy: 0.9723 - loss: 0.0761 - val_accuracy: 0.9065 - val_loss: 0.3416\nEpoch 80/100\n\u001b[1m1172/1172\u001b[0m \u001b[32m━━━━━━━━━━━━━━━━━━━━\u001b[0m\u001b[37m\u001b[0m \u001b[1m193s\u001b[0m 165ms/step - accuracy: 0.9727 - loss: 0.0755 - val_accuracy: 0.9062 - val_loss: 0.3409\nEpoch 81/100\n\u001b[1m1172/1172\u001b[0m \u001b[32m━━━━━━━━━━━━━━━━━━━━\u001b[0m\u001b[37m\u001b[0m \u001b[1m193s\u001b[0m 165ms/step - accuracy: 0.9727 - loss: 0.0750 - val_accuracy: 0.9068 - val_loss: 0.3417\nEpoch 82/100\n\u001b[1m1172/1172\u001b[0m \u001b[32m━━━━━━━━━━━━━━━━━━━━\u001b[0m\u001b[37m\u001b[0m \u001b[1m193s\u001b[0m 165ms/step - accuracy: 0.9729 - loss: 0.0748 - val_accuracy: 0.9071 - val_loss: 0.3411\nEpoch 83/100\n\u001b[1m1172/1172\u001b[0m \u001b[32m━━━━━━━━━━━━━━━━━━━━\u001b[0m\u001b[37m\u001b[0m \u001b[1m194s\u001b[0m 165ms/step - accuracy: 0.9730 - loss: 0.0744 - val_accuracy: 0.9065 - val_loss: 0.3455\nEpoch 84/100\n\u001b[1m1172/1172\u001b[0m \u001b[32m━━━━━━━━━━━━━━━━━━━━\u001b[0m\u001b[37m\u001b[0m \u001b[1m194s\u001b[0m 165ms/step - accuracy: 0.9734 - loss: 0.0737 - val_accuracy: 0.9065 - val_loss: 0.3490\nEpoch 85/100\n\u001b[1m1172/1172\u001b[0m \u001b[32m━━━━━━━━━━━━━━━━━━━━\u001b[0m\u001b[37m\u001b[0m \u001b[1m194s\u001b[0m 165ms/step - accuracy: 0.9735 - loss: 0.0733 - val_accuracy: 0.9059 - val_loss: 0.3489\nEpoch 86/100\n\u001b[1m1172/1172\u001b[0m \u001b[32m━━━━━━━━━━━━━━━━━━━━\u001b[0m\u001b[37m\u001b[0m \u001b[1m194s\u001b[0m 165ms/step - accuracy: 0.9732 - loss: 0.0742 - val_accuracy: 0.9062 - val_loss: 0.3474\nEpoch 87/100\n\u001b[1m1172/1172\u001b[0m \u001b[32m━━━━━━━━━━━━━━━━━━━━\u001b[0m\u001b[37m\u001b[0m \u001b[1m194s\u001b[0m 165ms/step - accuracy: 0.9733 - loss: 0.0736 - val_accuracy: 0.9071 - val_loss: 0.3499\nEpoch 88/100\n\u001b[1m1172/1172\u001b[0m \u001b[32m━━━━━━━━━━━━━━━━━━━━\u001b[0m\u001b[37m\u001b[0m \u001b[1m194s\u001b[0m 165ms/step - accuracy: 0.9738 - loss: 0.0725 - val_accuracy: 0.9066 - val_loss: 0.3501\nEpoch 89/100\n\u001b[1m1172/1172\u001b[0m \u001b[32m━━━━━━━━━━━━━━━━━━━━\u001b[0m\u001b[37m\u001b[0m \u001b[1m193s\u001b[0m 165ms/step - accuracy: 0.9739 - loss: 0.0721 - val_accuracy: 0.9057 - val_loss: 0.3548\nEpoch 90/100\n\u001b[1m1172/1172\u001b[0m \u001b[32m━━━━━━━━━━━━━━━━━━━━\u001b[0m\u001b[37m\u001b[0m \u001b[1m194s\u001b[0m 165ms/step - accuracy: 0.9740 - loss: 0.0720 - val_accuracy: 0.9062 - val_loss: 0.3529\nEpoch 91/100\n\u001b[1m1172/1172\u001b[0m \u001b[32m━━━━━━━━━━━━━━━━━━━━\u001b[0m\u001b[37m\u001b[0m \u001b[1m193s\u001b[0m 165ms/step - accuracy: 0.9737 - loss: 0.0723 - val_accuracy: 0.9070 - val_loss: 0.3549\nEpoch 92/100\n\u001b[1m1172/1172\u001b[0m \u001b[32m━━━━━━━━━━━━━━━━━━━━\u001b[0m\u001b[37m\u001b[0m \u001b[1m194s\u001b[0m 166ms/step - accuracy: 0.9741 - loss: 0.0713 - val_accuracy: 0.9065 - val_loss: 0.3594\nEpoch 93/100\n\u001b[1m1172/1172\u001b[0m \u001b[32m━━━━━━━━━━━━━━━━━━━━\u001b[0m\u001b[37m\u001b[0m \u001b[1m194s\u001b[0m 166ms/step - accuracy: 0.9743 - loss: 0.0711 - val_accuracy: 0.9061 - val_loss: 0.3541\nEpoch 94/100\n\u001b[1m1172/1172\u001b[0m \u001b[32m━━━━━━━━━━━━━━━━━━━━\u001b[0m\u001b[37m\u001b[0m \u001b[1m194s\u001b[0m 165ms/step - accuracy: 0.9742 - loss: 0.0709 - val_accuracy: 0.9054 - val_loss: 0.3532\nEpoch 95/100\n\u001b[1m1172/1172\u001b[0m \u001b[32m━━━━━━━━━━━━━━━━━━━━\u001b[0m\u001b[37m\u001b[0m \u001b[1m194s\u001b[0m 165ms/step - accuracy: 0.9743 - loss: 0.0708 - val_accuracy: 0.9058 - val_loss: 0.3553\nEpoch 96/100\n\u001b[1m1172/1172\u001b[0m \u001b[32m━━━━━━━━━━━━━━━━━━━━\u001b[0m\u001b[37m\u001b[0m \u001b[1m194s\u001b[0m 165ms/step - accuracy: 0.9743 - loss: 0.0704 - val_accuracy: 0.9053 - val_loss: 0.3598\nEpoch 97/100\n\u001b[1m1172/1172\u001b[0m \u001b[32m━━━━━━━━━━━━━━━━━━━━\u001b[0m\u001b[37m\u001b[0m \u001b[1m194s\u001b[0m 165ms/step - accuracy: 0.9744 - loss: 0.0704 - val_accuracy: 0.9056 - val_loss: 0.3564\nEpoch 98/100\n\u001b[1m1172/1172\u001b[0m \u001b[32m━━━━━━━━━━━━━━━━━━━━\u001b[0m\u001b[37m\u001b[0m \u001b[1m193s\u001b[0m 165ms/step - accuracy: 0.9746 - loss: 0.0700 - val_accuracy: 0.9059 - val_loss: 0.3616\nEpoch 99/100\n\u001b[1m1172/1172\u001b[0m \u001b[32m━━━━━━━━━━━━━━━━━━━━\u001b[0m\u001b[37m\u001b[0m \u001b[1m193s\u001b[0m 165ms/step - accuracy: 0.9745 - loss: 0.0701 - val_accuracy: 0.9062 - val_loss: 0.3622\nEpoch 100/100\n\u001b[1m1172/1172\u001b[0m \u001b[32m━━━━━━━━━━━━━━━━━━━━\u001b[0m\u001b[37m\u001b[0m \u001b[1m193s\u001b[0m 165ms/step - accuracy: 0.9748 - loss: 0.0695 - val_accuracy: 0.9059 - val_loss: 0.3628\n",
          "output_type": "stream"
        }
      ]
    },
    {
      "cell_type": "code",
      "source": [
        "import matplotlib.pyplot as plt\n",
        "from tensorflow.keras.callbacks import History"
      ],
      "metadata": {
        "execution": {
          "iopub.status.busy": "2024-05-22T04:03:09.282246Z",
          "iopub.execute_input": "2024-05-22T04:03:09.283144Z",
          "iopub.status.idle": "2024-05-22T04:03:09.295040Z",
          "shell.execute_reply.started": "2024-05-22T04:03:09.283111Z",
          "shell.execute_reply": "2024-05-22T04:03:09.294090Z"
        },
        "trusted": true,
        "id": "z_WeEL860vU6"
      },
      "execution_count": null,
      "outputs": []
    },
    {
      "cell_type": "code",
      "source": [
        "# Extract the training history\n",
        "training_accuracy = history.history['accuracy']\n",
        "validation_accuracy = history.history['val_accuracy']"
      ],
      "metadata": {
        "execution": {
          "iopub.status.busy": "2024-05-22T04:03:24.425449Z",
          "iopub.execute_input": "2024-05-22T04:03:24.425837Z",
          "iopub.status.idle": "2024-05-22T04:03:24.430803Z",
          "shell.execute_reply.started": "2024-05-22T04:03:24.425811Z",
          "shell.execute_reply": "2024-05-22T04:03:24.429837Z"
        },
        "trusted": true,
        "id": "v0lO9Oii0vU6"
      },
      "execution_count": null,
      "outputs": []
    },
    {
      "cell_type": "code",
      "source": [
        "# Plot the accuracy over epochs\n",
        "epochs = range(1, len(training_accuracy) + 1)\n",
        "plt.plot(epochs, training_accuracy, 'b-', label='Training Accuracy')\n",
        "plt.plot(epochs, validation_accuracy, 'r', label='Validation Accuracy')\n",
        "plt.title('Training and Validation Accuracy')\n",
        "plt.xlabel('Epochs')\n",
        "plt.ylabel('Accuracy')\n",
        "plt.legend()\n",
        "plt.grid(True)\n",
        "plt.show()"
      ],
      "metadata": {
        "execution": {
          "iopub.status.busy": "2024-05-22T04:06:23.317759Z",
          "iopub.execute_input": "2024-05-22T04:06:23.318142Z",
          "iopub.status.idle": "2024-05-22T04:06:23.554741Z",
          "shell.execute_reply.started": "2024-05-22T04:06:23.318115Z",
          "shell.execute_reply": "2024-05-22T04:06:23.553711Z"
        },
        "trusted": true,
        "id": "ISJh6_ya0vU6",
        "outputId": "90d58fcf-f927-45db-b87f-2973f9ce10ff"
      },
      "execution_count": null,
      "outputs": [
        {
          "output_type": "display_data",
          "data": {
            "text/plain": "<Figure size 640x480 with 1 Axes>",
            "image/png": "[encoded data removed]"
          },
          "metadata": {}
        }
      ]
    },
    {
      "cell_type": "code",
      "source": [
        "loss, accuracy = model.evaluate(X_test, y_test)\n",
        "print(\"Loss: \", loss)\n",
        "print(\"Accuracy: \", accuracy)"
      ],
      "metadata": {
        "execution": {
          "iopub.status.busy": "2024-05-22T04:07:02.924164Z",
          "iopub.execute_input": "2024-05-22T04:07:02.924782Z",
          "iopub.status.idle": "2024-05-22T04:08:11.475355Z",
          "shell.execute_reply.started": "2024-05-22T04:07:02.924743Z",
          "shell.execute_reply": "2024-05-22T04:08:11.474436Z"
        },
        "trusted": true,
        "id": "glAUHi7u0vU6",
        "outputId": "e40e2a85-a5d5-46e3-ed24-2219a7815e7b"
      },
      "execution_count": null,
      "outputs": [
        {
          "name": "stdout",
          "text": "\u001b[1m16250/16250\u001b[0m \u001b[32m━━━━━━━━━━━━━━━━━━━━\u001b[0m\u001b[37m\u001b[0m \u001b[1m68s\u001b[0m 4ms/step - accuracy: 0.9045 - loss: 0.3675\nLoss:  0.36275479197502136\nAccuracy:  0.9058517217636108\n",
          "output_type": "stream"
        }
      ]
    },
    {
      "cell_type": "code",
      "source": [
        "prediction = model.predict(X_test)\n",
        "y_pred = np.where(prediction>=.5, 1, 0)\n",
        "df = pd.DataFrame()\n",
        "df['actual'],df['pred'] = y_test, y_pred"
      ],
      "metadata": {
        "execution": {
          "iopub.status.busy": "2024-05-22T04:08:51.680436Z",
          "iopub.execute_input": "2024-05-22T04:08:51.680767Z",
          "iopub.status.idle": "2024-05-22T04:09:58.566158Z",
          "shell.execute_reply.started": "2024-05-22T04:08:51.680742Z",
          "shell.execute_reply": "2024-05-22T04:09:58.565294Z"
        },
        "trusted": true,
        "id": "y1lo2ll60vU6",
        "outputId": "7a1c7774-9854-42ba-bfa4-b2f508ab4ac4"
      },
      "execution_count": null,
      "outputs": [
        {
          "name": "stdout",
          "text": "\u001b[1m16250/16250\u001b[0m \u001b[32m━━━━━━━━━━━━━━━━━━━━\u001b[0m\u001b[37m\u001b[0m \u001b[1m57s\u001b[0m 3ms/step\n",
          "output_type": "stream"
        }
      ]
    },
    {
      "cell_type": "code",
      "source": [
        "import seaborn as sns\n",
        "CM = confusion_matrix(y_test, y_pred)\n",
        "sns.heatmap(CM, annot = True, center = True, fmt = 'g', cmap = 'Blues')\n",
        "CM\n"
      ],
      "metadata": {
        "execution": {
          "iopub.status.busy": "2024-05-22T04:10:39.298735Z",
          "iopub.execute_input": "2024-05-22T04:10:39.299112Z",
          "iopub.status.idle": "2024-05-22T04:10:39.550653Z",
          "shell.execute_reply.started": "2024-05-22T04:10:39.299084Z",
          "shell.execute_reply": "2024-05-22T04:10:39.549793Z"
        },
        "trusted": true,
        "id": "lcUxAE600vU6",
        "outputId": "852dc12c-6c58-4f8d-810c-2ae3aa84b913"
      },
      "execution_count": null,
      "outputs": [
        {
          "execution_count": 45,
          "output_type": "execute_result",
          "data": {
            "text/plain": "array([[235709,  24290],\n       [ 24667, 235333]])"
          },
          "metadata": {}
        },
        {
          "output_type": "display_data",
          "data": {
            "text/plain": "<Figure size 640x480 with 2 Axes>",
            "image/png": "[encoded data removed]"
          },
          "metadata": {}
        }
      ]
    },
    {
      "cell_type": "code",
      "source": [
        "report = classification_report(y_test, y_pred)\n",
        "print(\"Classification Report: \")\n",
        "print(report)"
      ],
      "metadata": {
        "execution": {
          "iopub.status.busy": "2024-05-22T04:11:00.316797Z",
          "iopub.execute_input": "2024-05-22T04:11:00.317165Z",
          "iopub.status.idle": "2024-05-22T04:11:00.507689Z",
          "shell.execute_reply.started": "2024-05-22T04:11:00.317138Z",
          "shell.execute_reply": "2024-05-22T04:11:00.506753Z"
        },
        "trusted": true,
        "id": "dCnU1Yu20vU6",
        "outputId": "d4c2eaf0-d85d-44fc-bfd8-da46ceed4a08"
      },
      "execution_count": null,
      "outputs": [
        {
          "name": "stdout",
          "text": "Classification Report: \n              precision    recall  f1-score   support\n\n           0       0.91      0.91      0.91    259999\n           1       0.91      0.91      0.91    260000\n\n    accuracy                           0.91    519999\n   macro avg       0.91      0.91      0.91    519999\nweighted avg       0.91      0.91      0.91    519999\n\n",
          "output_type": "stream"
        }
      ]
    },
    {
      "cell_type": "code",
      "source": [
        "from tensorflow.keras.callbacks import EarlyStopping"
      ],
      "metadata": {
        "execution": {
          "iopub.status.busy": "2024-05-22T04:15:56.005035Z",
          "iopub.execute_input": "2024-05-22T04:15:56.005789Z",
          "iopub.status.idle": "2024-05-22T04:15:56.010113Z",
          "shell.execute_reply.started": "2024-05-22T04:15:56.005758Z",
          "shell.execute_reply": "2024-05-22T04:15:56.009104Z"
        },
        "trusted": true,
        "id": "3V5f1Nnq0vU6"
      },
      "execution_count": null,
      "outputs": []
    },
    {
      "cell_type": "code",
      "source": [
        "# Define early stopping callback\n",
        "early_stopping = EarlyStopping(monitor='val_loss', patience=3, restore_best_weights=True)\n"
      ],
      "metadata": {
        "execution": {
          "iopub.status.busy": "2024-05-22T04:16:19.961138Z",
          "iopub.execute_input": "2024-05-22T04:16:19.961845Z",
          "iopub.status.idle": "2024-05-22T04:16:19.966114Z",
          "shell.execute_reply.started": "2024-05-22T04:16:19.961815Z",
          "shell.execute_reply": "2024-05-22T04:16:19.965128Z"
        },
        "trusted": true,
        "id": "_e04E0-c0vU7"
      },
      "execution_count": null,
      "outputs": []
    },
    {
      "cell_type": "code",
      "source": [
        "X_train.shape, y_train.shape"
      ],
      "metadata": {
        "execution": {
          "iopub.status.busy": "2024-05-22T04:16:51.765992Z",
          "iopub.execute_input": "2024-05-22T04:16:51.766632Z",
          "iopub.status.idle": "2024-05-22T04:16:51.772426Z",
          "shell.execute_reply.started": "2024-05-22T04:16:51.766600Z",
          "shell.execute_reply": "2024-05-22T04:16:51.771527Z"
        },
        "trusted": true,
        "id": "xMbiJing0vU7",
        "outputId": "7890593b-3f00-4c4a-eaf6-fe62320a70f0"
      },
      "execution_count": null,
      "outputs": [
        {
          "execution_count": 49,
          "output_type": "execute_result",
          "data": {
            "text/plain": "((2400000, 100), (2400000,))"
          },
          "metadata": {}
        }
      ]
    },
    {
      "cell_type": "code",
      "source": [
        "# Train the model with early stopping\n",
        "history = model.fit(X_train, y_train, epochs=100, batch_size=2048, verbose=1, validation_data=(X_test, y_test), callbacks=[early_stopping])"
      ],
      "metadata": {
        "id": "OuCzpTcT0vU7"
      },
      "execution_count": null,
      "outputs": []
    }
  ]
}